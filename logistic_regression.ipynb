{
 "cells": [
  {
   "cell_type": "code",
   "execution_count": 1,
   "metadata": {},
   "outputs": [],
   "source": [
    "import pandas as pd\n",
    "from sklearn.model_selection import train_test_split\n",
    "from sklearn.preprocessing import OneHotEncoder, StandardScaler\n",
    "from sklearn.linear_model import LogisticRegression\n",
    "from sklearn.metrics import accuracy_score"
   ]
  },
  {
   "cell_type": "code",
   "execution_count": 2,
   "metadata": {},
   "outputs": [],
   "source": [
    "# Load Data\n",
    "train = pd.read_csv('data/split/train_M.csv')\n",
    "test = pd.read_csv('data/split/test_M.csv')\n",
    "\n",
    "encoded_features = ['Level', 'climber', 'problem_category']\n",
    "target = 'status'\n",
    "\n",
    "X_train, X_test = train[encoded_features], test[encoded_features]\n",
    "y_train, y_test = train[target], test[target]"
   ]
  },
  {
   "cell_type": "code",
   "execution_count": 3,
   "metadata": {},
   "outputs": [],
   "source": [
    "# Encode Features\n",
    "encoder = OneHotEncoder(drop='first', sparse_output=False)\n",
    "X_train_encoded = encoder.fit_transform(X_train)\n",
    "X_test_encoded = encoder.transform(X_test)\n",
    "\n",
    "X_train_encoded_df = pd.DataFrame(X_train_encoded, columns=encoder.get_feature_names_out(encoded_features))\n",
    "X_test_encoded_df = pd.DataFrame(X_test_encoded, columns=encoder.get_feature_names_out(encoded_features))"
   ]
  },
  {
   "cell_type": "code",
   "execution_count": 9,
   "metadata": {},
   "outputs": [
    {
     "name": "stdout",
     "output_type": "stream",
     "text": [
      "Accuracy: 0.673859400430514\n"
     ]
    }
   ],
   "source": [
    "# Scale the data - so our intercept isn't over 1\n",
    "scaler = StandardScaler()\n",
    "X_train_scaled = scaler.fit_transform(X_train_encoded_df)\n",
    "X_test_scaled = scaler.transform(X_test_encoded_df)\n",
    "\n",
    "# Train Model\n",
    "logreg = LogisticRegression(max_iter=1000)\n",
    "logreg.fit(X_train_scaled, y_train)\n",
    "\n",
    "# Apply model onto Test\n",
    "y_pred = logreg.predict(X_test_scaled)\n",
    "print(\"Accuracy:\", accuracy_score(y_test, y_pred))"
   ]
  },
  {
   "cell_type": "code",
   "execution_count": 10,
   "metadata": {},
   "outputs": [
    {
     "name": "stdout",
     "output_type": "stream",
     "text": [
      "Intercept: 0.265633008758891\n",
      "Coefficients:\n",
      "                              Feature  Coefficient\n",
      "0                            Level_Q    -0.120914\n",
      "1                            Level_S    -0.083864\n",
      "2      climber_Dmitrii Sharafutdinov     0.032827\n",
      "3   climber_Guillaume Glairon Mondet    -0.001130\n",
      "4                  climber_Jan Hojer    -0.005325\n",
      "5              climber_Jernej Kruder    -0.017201\n",
      "6          climber_Kilian Fischhuber     0.059846\n",
      "7               climber_Kokoro Fujii     0.019130\n",
      "8                      climber_Other    -0.381549\n",
      "9            climber_Rustam Gelmanov     0.016797\n",
      "10               climber_Sean Mccoll    -0.016615\n",
      "11              climber_Tsukuru Hori    -0.012984\n",
      "12             problem_category_Zone     0.658834\n"
     ]
    }
   ],
   "source": [
    "# Retrieve and display regression coefficients\n",
    "coefficients = logreg.coef_[0]\n",
    "intercept = logreg.intercept_[0]\n",
    "feature_names = X_train_encoded_df.columns\n",
    "\n",
    "coef_df = pd.DataFrame({\n",
    "    'Feature': feature_names,\n",
    "    'Coefficient': coefficients\n",
    "})\n",
    "print(\"Intercept:\", intercept)\n",
    "print(\"Coefficients:\\n\", coef_df)"
   ]
  },
  {
   "cell_type": "code",
   "execution_count": 8,
   "metadata": {},
   "outputs": [
    {
     "name": "stdout",
     "output_type": "stream",
     "text": [
      "Intercept: 0.7704030060913453\n",
      "Coefficients:\n",
      "                              Feature  Coefficient\n",
      "0                            Level_Q    -0.290688\n",
      "1                            Level_S    -0.221188\n",
      "2      climber_Dmitrii Sharafutdinov     0.380986\n",
      "3   climber_Guillaume Glairon Mondet     0.075595\n",
      "4                  climber_Jan Hojer     0.034953\n",
      "5              climber_Jernej Kruder    -0.060959\n",
      "6          climber_Kilian Fischhuber     0.625608\n",
      "7               climber_Kokoro Fujii     0.268453\n",
      "8                      climber_Other    -1.061499\n",
      "9            climber_Rustam Gelmanov     0.223364\n",
      "10               climber_Sean Mccoll    -0.066478\n",
      "11              climber_Tsukuru Hori    -0.035481\n",
      "12             problem_category_Zone     1.318027\n"
     ]
    }
   ],
   "source": [
    "# Retrieve and display regression coefficients\n",
    "coefficients = logreg.coef_[0]\n",
    "intercept = logreg.intercept_[0]\n",
    "feature_names = X_train_encoded_df.columns\n",
    "\n",
    "coef_df = pd.DataFrame({\n",
    "    'Feature': feature_names,\n",
    "    'Coefficient': coefficients\n",
    "})\n",
    "print(\"Intercept:\", intercept)\n",
    "print(\"Coefficients:\\n\", coef_df)"
   ]
  },
  {
   "cell_type": "code",
   "execution_count": null,
   "metadata": {},
   "outputs": [],
   "source": []
  },
  {
   "cell_type": "code",
   "execution_count": null,
   "metadata": {},
   "outputs": [],
   "source": []
  }
 ],
 "metadata": {
  "kernelspec": {
   "display_name": "Python 3",
   "language": "python",
   "name": "python3"
  },
  "language_info": {
   "codemirror_mode": {
    "name": "ipython",
    "version": 3
   },
   "file_extension": ".py",
   "mimetype": "text/x-python",
   "name": "python",
   "nbconvert_exporter": "python",
   "pygments_lexer": "ipython3",
   "version": "3.9.10"
  }
 },
 "nbformat": 4,
 "nbformat_minor": 2
}
