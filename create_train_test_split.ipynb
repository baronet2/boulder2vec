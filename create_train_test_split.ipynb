{
 "cells": [
  {
   "cell_type": "code",
   "execution_count": 1,
   "metadata": {},
   "outputs": [],
   "source": [
    "import pandas as pd\n",
    "import numpy as np\n",
    "from sklearn.model_selection import train_test_split"
   ]
  },
  {
   "cell_type": "code",
   "execution_count": 2,
   "metadata": {},
   "outputs": [],
   "source": [
    "df = pd.read_csv('data/men_data_1000.csv')"
   ]
  },
  {
   "cell_type": "code",
   "execution_count": 3,
   "metadata": {},
   "outputs": [],
   "source": [
    "seed = 42\n",
    "\n",
    "def split_80_20(group, seed):\n",
    "    train, test = train_test_split(group, test_size=0.2, random_state=seed)\n",
    "    return train, test\n",
    "\n",
    "def create_train_test(df, seed):\n",
    "    train_list = []\n",
    "    test_list = []\n",
    "\n",
    "    for name, group in df.groupby(['Competition', 'problem']):\n",
    "        train_group, test_group = split_80_20(group, seed)\n",
    "        train_list.append(train_group)\n",
    "        test_list.append(test_group)\n",
    "\n",
    "    train_df = pd.concat(train_list).reset_index(drop=True)\n",
    "    test_df = pd.concat(test_list).reset_index(drop=True)\n",
    "\n",
    "    return train_df, test_df"
   ]
  },
  {
   "cell_type": "code",
   "execution_count": 4,
   "metadata": {},
   "outputs": [],
   "source": [
    "# Men\n",
    "train, test = create_train_test(df, 42)"
   ]
  },
  {
   "cell_type": "code",
   "execution_count": 5,
   "metadata": {},
   "outputs": [
    {
     "name": "stdout",
     "output_type": "stream",
     "text": [
      "There are 1008 Competition x Problems in Test\n",
      "There are 1008 Competition x Problems in Test\n",
      "There are 1008 Competition x Problems in Test\n"
     ]
    }
   ],
   "source": [
    "print(f\"There are {train.groupby(['Competition', 'problem']).ngroups} Competition x Problems in Test\")\n",
    "print(f\"There are {test.groupby(['Competition', 'problem']).ngroups} Competition x Problems in Test\")\n",
    "print(f\"There are {df.groupby(['Competition', 'problem']).ngroups} Competition x Problems in Test\")"
   ]
  },
  {
   "cell_type": "code",
   "execution_count": 8,
   "metadata": {},
   "outputs": [],
   "source": [
    "train.to_csv('./data/split/train.csv', index=False)\n",
    "test.to_csv('./data/split/test.csv', index=False)"
   ]
  },
  {
   "cell_type": "code",
   "execution_count": null,
   "metadata": {},
   "outputs": [],
   "source": []
  }
 ],
 "metadata": {
  "kernelspec": {
   "display_name": "Python 3",
   "language": "python",
   "name": "python3"
  },
  "language_info": {
   "codemirror_mode": {
    "name": "ipython",
    "version": 3
   },
   "file_extension": ".py",
   "mimetype": "text/x-python",
   "name": "python",
   "nbconvert_exporter": "python",
   "pygments_lexer": "ipython3",
   "version": "3.9.10"
  }
 },
 "nbformat": 4,
 "nbformat_minor": 2
}
