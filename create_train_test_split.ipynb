{
 "cells": [
  {
   "cell_type": "code",
   "execution_count": 1,
   "metadata": {},
   "outputs": [],
   "source": [
    "import pandas as pd\n",
    "import numpy as np\n",
    "from sklearn.model_selection import train_test_split\n"
   ]
  },
  {
   "cell_type": "code",
   "execution_count": 2,
   "metadata": {},
   "outputs": [],
   "source": [
    "df_M = pd.read_csv('data/men_data_1000.csv')\n",
    "df_W = pd.read_csv('data/women_data_1000.csv')"
   ]
  },
  {
   "cell_type": "code",
   "execution_count": 3,
   "metadata": {},
   "outputs": [],
   "source": [
    "seed = 42\n",
    "\n",
    "def create_split(df, seed):\n",
    "    df['stratify_group'] = df[['Competition', 'Level', 'problem']].apply(lambda row: '_'.join(row.values.astype(str)), axis=1)\n",
    "    train_df, test_df = train_test_split(df, train_size=0.8, test_size=0.2, random_state=seed, stratify=df['stratify_group'])\n",
    "\n",
    "    train_df = train_df.drop(columns=['stratify_group'])\n",
    "    test_df = test_df.drop(columns=['stratify_group'])\n",
    "\n",
    "    return train_df.reset_index(drop=True), test_df.reset_index(drop=True)"
   ]
  },
  {
   "cell_type": "code",
   "execution_count": 4,
   "metadata": {},
   "outputs": [],
   "source": [
    "# Men\n",
    "train_M, test_M = create_split(df_M, 42)\n",
    "\n",
    "# Women\n",
    "train_W, test_W = create_split(df_W, 42)"
   ]
  },
  {
   "cell_type": "code",
   "execution_count": 5,
   "metadata": {},
   "outputs": [
    {
     "name": "stdout",
     "output_type": "stream",
     "text": [
      "There are 2517 Competition x Level x Problems in Train\n",
      "There are 2517 Competition x Level x Problems in Test\n",
      "There are 2517 Competition x Level x Problems in Total\n"
     ]
    }
   ],
   "source": [
    "print(f\"There are {train_M.groupby(['Competition', 'Level', 'problem']).ngroups} Competition x Level x Problems in Train\")\n",
    "print(f\"There are {test_M.groupby(['Competition', 'Level', 'problem']).ngroups} Competition x Level x Problems in Test\")\n",
    "print(f\"There are {df_M.groupby(['Competition', 'Level', 'problem']).ngroups} Competition x Level x Problems in Total\")"
   ]
  },
  {
   "cell_type": "code",
   "execution_count": 6,
   "metadata": {},
   "outputs": [
    {
     "name": "stdout",
     "output_type": "stream",
     "text": [
      "There are 2502 Competition x Level x Problems in Train\n",
      "There are 2502 Competition x Level x Problems in Test\n",
      "There are 2502 Competition x Level x Problems in Total\n"
     ]
    }
   ],
   "source": [
    "print(f\"There are {train_W.groupby(['Competition', 'Level', 'problem']).ngroups} Competition x Level x Problems in Train\")\n",
    "print(f\"There are {test_W.groupby(['Competition', 'Level', 'problem']).ngroups} Competition x Level x Problems in Test\")\n",
    "print(f\"There are {df_W.groupby(['Competition', 'Level', 'problem']).ngroups} Competition x Level x Problems in Total\")"
   ]
  },
  {
   "cell_type": "code",
   "execution_count": 7,
   "metadata": {},
   "outputs": [],
   "source": [
    "train_M.to_csv('./data/split/train_M.csv', index=False)\n",
    "test_M.to_csv('./data/split/test_M.csv', index=False)\n",
    "\n",
    "train_W.to_csv('./data/split/train_W.csv', index=False)\n",
    "test_W.to_csv('./data/split/test_W.csv', index=False)"
   ]
  }
 ],
 "metadata": {
  "kernelspec": {
   "display_name": "Python 3",
   "language": "python",
   "name": "python3"
  },
  "language_info": {
   "codemirror_mode": {
    "name": "ipython",
    "version": 3
   },
   "file_extension": ".py",
   "mimetype": "text/x-python",
   "name": "python",
   "nbconvert_exporter": "python",
   "pygments_lexer": "ipython3",
   "version": "3.9.10"
  }
 },
 "nbformat": 4,
 "nbformat_minor": 2
}
