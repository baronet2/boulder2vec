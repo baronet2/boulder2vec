{
 "cells": [
  {
   "cell_type": "code",
   "execution_count": 1,
   "metadata": {},
   "outputs": [
    {
     "name": "stderr",
     "output_type": "stream",
     "text": [
      "/Users/zekeweng/.pyenv/versions/3.9.10/lib/python3.9/site-packages/torchtext/vocab/__init__.py:4: UserWarning: \n",
      "/!\\ IMPORTANT WARNING ABOUT TORCHTEXT STATUS /!\\ \n",
      "Torchtext is deprecated and the last released version will be 0.18 (this one). You can silence this warning by calling the following at the beginnign of your scripts: `import torchtext; torchtext.disable_torchtext_deprecation_warning()`\n",
      "  warnings.warn(torchtext._TORCHTEXT_DEPRECATION_MSG)\n",
      "/Users/zekeweng/.pyenv/versions/3.9.10/lib/python3.9/site-packages/torchtext/utils.py:4: UserWarning: \n",
      "/!\\ IMPORTANT WARNING ABOUT TORCHTEXT STATUS /!\\ \n",
      "Torchtext is deprecated and the last released version will be 0.18 (this one). You can silence this warning by calling the following at the beginnign of your scripts: `import torchtext; torchtext.disable_torchtext_deprecation_warning()`\n",
      "  warnings.warn(torchtext._TORCHTEXT_DEPRECATION_MSG)\n"
     ]
    }
   ],
   "source": [
    "import torch\n",
    "import pickle\n",
    "import numpy as np\n",
    "import pandas as pd\n",
    "import matplotlib.pylab as plt\n",
    "import seaborn as sns\n",
    "\n",
    "from sklearn.decomposition import PCA\n",
    "from sklearn.metrics import accuracy_score\n",
    "\n",
    "from pmf import PMF\n",
    "from lr import LogReg"
   ]
  },
  {
   "cell_type": "code",
   "execution_count": 2,
   "metadata": {},
   "outputs": [],
   "source": [
    "SEED = 42\n",
    "REPLACEMENT_LEVELS = [25, 50, 100, 250, 500, 1000]\n",
    "LATENT_FACTORS = [1, 2, 3, 4, 5, 6]\n",
    "\n",
    "df = pd.read_csv('data/men_data.csv')"
   ]
  },
  {
   "cell_type": "markdown",
   "metadata": {},
   "source": [
    "# Climber Embeddings"
   ]
  },
  {
   "cell_type": "code",
   "execution_count": 41,
   "metadata": {},
   "outputs": [],
   "source": [
    "def get_climber_accuracy(df, model, names):\n",
    "    accuracies = []\n",
    "    for name in reversed(names):\n",
    "        if name != 'other':\n",
    "            df_climber = df.loc[df.Name == name]\n",
    "        else:\n",
    "            mask = df.Name.isin([climber for climber in model.climber_vocab.get_itos() if climber != 'other'])\n",
    "            df_climber= df.loc[~mask]\n",
    "\n",
    "        y_true = df_climber['Status'].values\n",
    "        y_pred = model.predict(df_climber)\n",
    "        y_pred_binary = np.round(y_pred)\n",
    "        accuracies.append(accuracy_score(y_true, y_pred_binary))\n",
    "    return accuracies\n",
    "\n",
    "def get_climber_counts(df, model, names):\n",
    "    accuracies = []\n",
    "    for name in names:\n",
    "        if name != 'other':\n",
    "            df_climber = df.loc[df.Name == name]\n",
    "        else:\n",
    "            mask = df.Name.isin([climber for climber in model.climber_vocab.get_itos() if climber != 'other'])\n",
    "            df_climber= df.loc[~mask]\n",
    "        accuracies.append(df_climber.shape[0])\n",
    "    return accuracies\n",
    "\n",
    "def create_climbers_df():\n",
    "    climbers = {}\n",
    "\n",
    "    for replacement_level in REPLACEMENT_LEVELS:\n",
    "        with open(f\"models/lr/model_rl_{replacement_level}_fold_0.pkl\", 'rb') as f:            ########## CHANGE PATH FOR COMPLETE MODEL\n",
    "            lr_model = pickle.load(f)\n",
    "\n",
    "        for num_factors in LATENT_FACTORS:\n",
    "            # lr_weights = dict(zip(lr_model.climber_vocab.get_itos(), [lr_model.lr.intercept_[0]] + lr_model.lr.coef_.flatten().tolist())) ### WITH OTHER\n",
    "            ### Handle Climbers (LR)\n",
    "            lr_climber_names = lr_model.climber_vocab.get_itos()[1:]\n",
    "            lr_climbers = pd.DataFrame({\n",
    "                \"coefs\": lr_model.lr.coef_.flatten().tolist(),\n",
    "            }, index=lr_climber_names)\n",
    "\n",
    "            ### Handle Climbers (PMF)\n",
    "            pmf_model = torch.load(f\"models/pmf/model_rl_{replacement_level}_d_{num_factors}_fold_1.pth\")  ########## CHANGE PATH FOR COMPLETE MODEL\n",
    "            pmf_model.eval()\n",
    "\n",
    "            pmf_climber_names = pmf_model.climber_vocab.get_itos()[1:]                                         ########## WITHOUT OTHER ATM\n",
    "            pmf_climbers = pd.DataFrame({\n",
    "                \"weights\": pmf_model.climber_embedding.weight.data.numpy().tolist()[1:],\n",
    "                \"pmf_accuracy\": get_climber_accuracy(df, pmf_model, pmf_climber_names),\n",
    "                \"size\": get_climber_counts(df, pmf_model, pmf_climber_names),\n",
    "            }, index=pmf_climber_names)\n",
    "\n",
    "            weights = pmf_climbers['weights'].apply(pd.Series)\n",
    "            pmf_climbers = pd.concat([pmf_climbers[['pmf_accuracy','size']], weights], axis=1)\n",
    "            pmf_climbers.columns = ['pmf_accuracy', 'size'] + [f'weight_{i+1}' for i in range(weights.shape[1])]\n",
    "\n",
    "            ### Merge Climbers\n",
    "            lr_pmf_climbers = pd.merge(lr_climbers, pmf_climbers, left_index=True, right_index=True, how='outer')\n",
    "            lr_pmf_climbers.dropna(inplace=True)\n",
    "\n",
    "            ### Create PCs\n",
    "            embeddings = lr_pmf_climbers[[row for row in lr_pmf_climbers.columns if row.startswith('w')]].values\n",
    "            components = min(embeddings.shape[0], embeddings.shape[1])\n",
    "            pca = PCA(n_components=components)\n",
    "            pcs = pca.fit_transform(embeddings)\n",
    "\n",
    "            for pc in range(components):\n",
    "                lr_pmf_climbers[f'PC{pc+1}'] = pcs[:, pc]\n",
    "\n",
    "            climbers[f'{replacement_level}_{num_factors}'] = lr_pmf_climbers\n",
    "\n",
    "    return climbers\n",
    "\n",
    "def create_correlation_matrices(df, cols, raw=True):\n",
    "    for replacement_level in REPLACEMENT_LEVELS:\n",
    "\n",
    "        fig, axs = plt.subplots(nrows=1, ncols=len(LATENT_FACTORS), figsize=(28, 8))\n",
    "\n",
    "        for num_factors in LATENT_FACTORS:\n",
    "            df_athletes = df[f'{replacement_level}_{num_factors}']\n",
    "\n",
    "            prefix = 'weight' if raw else 'PC'\n",
    "            rows = [row for row in df_athletes.columns if row.startswith(prefix)]\n",
    "            cols = ['coefs','pmf_accuracy','size']\n",
    "            df_corr = df_athletes.corr().loc[rows, cols]\n",
    "            sns.heatmap(df_corr, annot=True, cmap='coolwarm', center=0, vmin=-1, vmax=1, ax=axs[num_factors-1])\n",
    "\n",
    "        plt.suptitle(f'Correlation Matrices at RL: {replacement_level}', fontsize=16)\n",
    "        plt.tight_layout()\n",
    "\n",
    "        filename = f'figs/{\"corr_raw\" if raw else \"corr_pc\"}/CMatrix_{replacement_level}_{\"raw\" if raw else \"pc\"}'\n",
    "        plt.savefig(filename)\n",
    "        plt.close(fig)\n",
    "\n",
    "\n",
    "### These PCs ahve excluded 'Other' will continue tomorrow - Height and Weights is last part for this\n",
    "def create_pc_figures(df):\n",
    "    for replacement_level in REPLACEMENT_LEVELS:\n",
    "\n",
    "        fig, axs = plt.subplots(nrows=1, ncols=len(LATENT_FACTORS[1:]), figsize=(28, 8))\n",
    "\n",
    "        for i, num_factors in enumerate(LATENT_FACTORS[1:]):\n",
    "            df_climbers = df[f'{replacement_level}_{num_factors}']\n",
    "\n",
    "            axs[i].scatter(df_climbers['PC1'], df_climbers['PC2'], alpha=0.5)\n",
    "\n",
    "            # for j, name in enumerate(df.index):\n",
    "            #     if name == 'other':\n",
    "            #         axs[i].text(df_climbers['PC1'][j], df_climbers['PC2'][j], name, color='red', fontsize=9)\n",
    "            #     else:\n",
    "            #         continue # Add labels?\n",
    "\n",
    "            axs[i].set_title(f'PCA for {num_factors} Factors')\n",
    "            axs[i].set_xlabel('Principal Component 1')\n",
    "            axs[i].set_ylabel('Principal Component 2')\n",
    "\n",
    "        plt.suptitle(f'PCA at RL: {replacement_level}', fontsize=16)\n",
    "        plt.tight_layout(rect=[0, 0, 1, 0.95])\n",
    "\n",
    "        filename = f'figs/PCA/PCA_{replacement_level}'\n",
    "        plt.savefig(filename)\n",
    "        plt.close(fig)\n"
   ]
  },
  {
   "cell_type": "markdown",
   "metadata": {},
   "source": [
    "### Load Athlete DataFrame"
   ]
  },
  {
   "cell_type": "code",
   "execution_count": 6,
   "metadata": {},
   "outputs": [
    {
     "name": "stderr",
     "output_type": "stream",
     "text": [
      "/Users/zekeweng/.pyenv/versions/3.9.10/lib/python3.9/site-packages/sklearn/base.py:376: InconsistentVersionWarning: Trying to unpickle estimator LogisticRegression from version 1.5.1 when using version 1.5.0. This might lead to breaking code or invalid results. Use at your own risk. For more info please refer to:\n",
      "https://scikit-learn.org/stable/model_persistence.html#security-maintainability-limitations\n",
      "  warnings.warn(\n",
      "/Users/zekeweng/.pyenv/versions/3.9.10/lib/python3.9/site-packages/sklearn/base.py:376: InconsistentVersionWarning: Trying to unpickle estimator LogisticRegression from version 1.5.1 when using version 1.5.0. This might lead to breaking code or invalid results. Use at your own risk. For more info please refer to:\n",
      "https://scikit-learn.org/stable/model_persistence.html#security-maintainability-limitations\n",
      "  warnings.warn(\n",
      "/Users/zekeweng/.pyenv/versions/3.9.10/lib/python3.9/site-packages/sklearn/base.py:376: InconsistentVersionWarning: Trying to unpickle estimator LogisticRegression from version 1.5.1 when using version 1.5.0. This might lead to breaking code or invalid results. Use at your own risk. For more info please refer to:\n",
      "https://scikit-learn.org/stable/model_persistence.html#security-maintainability-limitations\n",
      "  warnings.warn(\n",
      "/Users/zekeweng/.pyenv/versions/3.9.10/lib/python3.9/site-packages/sklearn/base.py:376: InconsistentVersionWarning: Trying to unpickle estimator LogisticRegression from version 1.5.1 when using version 1.5.0. This might lead to breaking code or invalid results. Use at your own risk. For more info please refer to:\n",
      "https://scikit-learn.org/stable/model_persistence.html#security-maintainability-limitations\n",
      "  warnings.warn(\n",
      "/Users/zekeweng/.pyenv/versions/3.9.10/lib/python3.9/site-packages/sklearn/base.py:376: InconsistentVersionWarning: Trying to unpickle estimator LogisticRegression from version 1.5.1 when using version 1.5.0. This might lead to breaking code or invalid results. Use at your own risk. For more info please refer to:\n",
      "https://scikit-learn.org/stable/model_persistence.html#security-maintainability-limitations\n",
      "  warnings.warn(\n",
      "/Users/zekeweng/.pyenv/versions/3.9.10/lib/python3.9/site-packages/sklearn/base.py:376: InconsistentVersionWarning: Trying to unpickle estimator LogisticRegression from version 1.5.1 when using version 1.5.0. This might lead to breaking code or invalid results. Use at your own risk. For more info please refer to:\n",
      "https://scikit-learn.org/stable/model_persistence.html#security-maintainability-limitations\n",
      "  warnings.warn(\n"
     ]
    }
   ],
   "source": [
    "athletes = create_climbers_df()"
   ]
  },
  {
   "cell_type": "markdown",
   "metadata": {},
   "source": [
    "### Load CMatrix Figures (Raw Embeddings)"
   ]
  },
  {
   "cell_type": "code",
   "execution_count": null,
   "metadata": {},
   "outputs": [],
   "source": [
    "create_correlation_matrices(athletes)"
   ]
  },
  {
   "cell_type": "markdown",
   "metadata": {},
   "source": [
    "### Load CMatrix Figures (PCs)"
   ]
  },
  {
   "cell_type": "code",
   "execution_count": null,
   "metadata": {},
   "outputs": [],
   "source": [
    "create_correlation_matrices(athletes, raw=False)"
   ]
  },
  {
   "cell_type": "code",
   "execution_count": null,
   "metadata": {},
   "outputs": [],
   "source": [
    "create_pc_figures(athletes)"
   ]
  },
  {
   "cell_type": "markdown",
   "metadata": {},
   "source": [
    "# Problem Embeddings"
   ]
  },
  {
   "cell_type": "code",
   "execution_count": 49,
   "metadata": {},
   "outputs": [
    {
     "name": "stderr",
     "output_type": "stream",
     "text": [
      "/Users/zekeweng/.pyenv/versions/3.9.10/lib/python3.9/site-packages/sklearn/base.py:376: InconsistentVersionWarning: Trying to unpickle estimator LogisticRegression from version 1.5.1 when using version 1.5.0. This might lead to breaking code or invalid results. Use at your own risk. For more info please refer to:\n",
      "https://scikit-learn.org/stable/model_persistence.html#security-maintainability-limitations\n",
      "  warnings.warn(\n",
      "/Users/zekeweng/.pyenv/versions/3.9.10/lib/python3.9/site-packages/sklearn/base.py:376: InconsistentVersionWarning: Trying to unpickle estimator LogisticRegression from version 1.5.1 when using version 1.5.0. This might lead to breaking code or invalid results. Use at your own risk. For more info please refer to:\n",
      "https://scikit-learn.org/stable/model_persistence.html#security-maintainability-limitations\n",
      "  warnings.warn(\n",
      "/Users/zekeweng/.pyenv/versions/3.9.10/lib/python3.9/site-packages/sklearn/base.py:376: InconsistentVersionWarning: Trying to unpickle estimator LogisticRegression from version 1.5.1 when using version 1.5.0. This might lead to breaking code or invalid results. Use at your own risk. For more info please refer to:\n",
      "https://scikit-learn.org/stable/model_persistence.html#security-maintainability-limitations\n",
      "  warnings.warn(\n",
      "/Users/zekeweng/.pyenv/versions/3.9.10/lib/python3.9/site-packages/sklearn/base.py:376: InconsistentVersionWarning: Trying to unpickle estimator LogisticRegression from version 1.5.1 when using version 1.5.0. This might lead to breaking code or invalid results. Use at your own risk. For more info please refer to:\n",
      "https://scikit-learn.org/stable/model_persistence.html#security-maintainability-limitations\n",
      "  warnings.warn(\n",
      "/Users/zekeweng/.pyenv/versions/3.9.10/lib/python3.9/site-packages/sklearn/base.py:376: InconsistentVersionWarning: Trying to unpickle estimator LogisticRegression from version 1.5.1 when using version 1.5.0. This might lead to breaking code or invalid results. Use at your own risk. For more info please refer to:\n",
      "https://scikit-learn.org/stable/model_persistence.html#security-maintainability-limitations\n",
      "  warnings.warn(\n",
      "/Users/zekeweng/.pyenv/versions/3.9.10/lib/python3.9/site-packages/sklearn/base.py:376: InconsistentVersionWarning: Trying to unpickle estimator LogisticRegression from version 1.5.1 when using version 1.5.0. This might lead to breaking code or invalid results. Use at your own risk. For more info please refer to:\n",
      "https://scikit-learn.org/stable/model_persistence.html#security-maintainability-limitations\n",
      "  warnings.warn(\n"
     ]
    }
   ],
   "source": [
    "def create_problems_df():\n",
    "    problems = {}\n",
    "\n",
    "    for replacement_level in REPLACEMENT_LEVELS:\n",
    "        with open(f\"models/lr/model_rl_{replacement_level}_fold_0.pkl\", 'rb') as f:            ########## CHANGE PATH FOR COMPLETE MODEL\n",
    "            lr_model = pickle.load(f)\n",
    "\n",
    "        for num_factors in LATENT_FACTORS:\n",
    "\n",
    "            ### Handle Climbers (LR)\n",
    "            # lr_climbers = lr_model.climber_vocab.get_itos()[1:]\n",
    "            # lr_athletes = pd.DataFrame({\n",
    "            #     \"coefs\": lr_model.lr.coef_.flatten().tolist(),\n",
    "            # }, index=lr_climbers)\n",
    "\n",
    "            ### Handle Climbers (PMF)\n",
    "            pmf_model = torch.load(f\"models/pmf/model_rl_{replacement_level}_d_{num_factors}_fold_1.pth\")  ########## CHANGE PATH FOR COMPLETE MODEL\n",
    "            pmf_model.eval()\n",
    "\n",
    "            pmf_problem_ids = pmf_model.problem_vocab.get_itos()[1:]                                 ########## WITHOUT OTHER ATM\n",
    "            pmf_problems = pd.DataFrame({\n",
    "                \"weights\": pmf_model.problem_embedding.weight.data.numpy().tolist()[1:],\n",
    "                \"year\": [float(problem.split('_')[0])for problem in pmf_problem_ids]\n",
    "            }, index=pmf_problem_ids)\n",
    "\n",
    "            weights = pmf_problems['weights'].apply(pd.Series)\n",
    "            pmf_problems = pd.concat([pmf_problems[['year']], weights], axis=1)\n",
    "            pmf_problems.columns = ['year'] + [f'weight_{i+1}' for i in range(weights.shape[1])]\n",
    "\n",
    "            ### Merge Climbers\n",
    "            c_probs = pmf_problems\n",
    "            # c_probs = pd.merge(lr_athletes, pmf_athletes, left_index=True, right_index=True, how='outer')\n",
    "            # lr_pmf_athletes.dropna(inplace=True)\n",
    "\n",
    "            # ### Create PCs\n",
    "            embeddings = c_probs[[row for row in c_probs.columns if row.startswith('w')]].values\n",
    "            components = min(embeddings.shape[0], embeddings.shape[1])\n",
    "            pca = PCA(n_components=components)\n",
    "            pcs = pca.fit_transform(embeddings)\n",
    "\n",
    "            for pc in range(components):\n",
    "                c_probs[f'PC{pc+1}'] = pcs[:, pc]\n",
    "\n",
    "            problems[f'{replacement_level}_{num_factors}'] = c_probs\n",
    "\n",
    "    return problems\n",
    "problems = create_problems_df()"
   ]
  },
  {
   "cell_type": "code",
   "execution_count": 65,
   "metadata": {},
   "outputs": [],
   "source": [
    "def create_geom_smooth(df):\n",
    "    for replacement_level in REPLACEMENT_LEVELS:\n",
    "\n",
    "        fig, axs = plt.subplots(nrows=1, ncols=len(LATENT_FACTORS), figsize=(48, 8))\n",
    "\n",
    "        for i, num_factors in enumerate(LATENT_FACTORS):\n",
    "            df_climbers = df[f'{replacement_level}_{num_factors}']\n",
    "\n",
    "            sns.regplot(x='year', y=f'PC{i+1}', data=df_climbers, lowess=True, ax=axs[i])\n",
    "\n",
    "            axs[i].set_title(f'GeomPlot for PC{1}')\n",
    "            axs[i].set_xlabel('Year')\n",
    "            axs[i].set_ylabel('Embedding')\n",
    "\n",
    "        plt.suptitle(f'GeomSmooth at RL: {replacement_level}', fontsize=16)\n",
    "        plt.tight_layout(rect=[0, 0, 1, 0.95])\n",
    "\n",
    "        filename = f'figs/geom/geom_{replacement_level}.png'\n",
    "        plt.savefig(filename)\n",
    "        plt.close(fig)\n",
    "\n",
    "create_geom_smooth(problems)"
   ]
  },
  {
   "cell_type": "markdown",
   "metadata": {},
   "source": [
    "OLD IMPLEMENTATION FOR REF"
   ]
  },
  {
   "cell_type": "code",
   "execution_count": null,
   "metadata": {},
   "outputs": [],
   "source": [
    "def create_correlation_matrices():\n",
    "    athletes = {}\n",
    "\n",
    "    for replacement_level in REPLACEMENT_LEVELS:\n",
    "        with open(f\"models/lr/model_rl_{replacement_level}_fold_0.pkl\", 'rb') as f:            ########## CHANGE PATH FOR COMPLETE MODEL\n",
    "            lr_model = pickle.load(f)\n",
    "\n",
    "        fig, axs = plt.subplots(nrows=1, ncols=len(LATENT_FACTORS), figsize=(28, 8))\n",
    "\n",
    "        for num_factors in LATENT_FACTORS:\n",
    "            # lr_weights = dict(zip(lr_model.climber_vocab.get_itos(), [lr_model.lr.intercept_[0]] + lr_model.lr.coef_.flatten().tolist())) ### WITH OTHER\n",
    "            lr_climbers = lr_model.climber_vocab.get_itos()[1:]\n",
    "            lr_athletes = pd.DataFrame({\n",
    "                \"coefs\": lr_model.lr.coef_.flatten().tolist(),\n",
    "            }, index=lr_climbers)\n",
    "\n",
    "            pmf_model = torch.load(f\"models/pmf/model_rl_{replacement_level}_d_{num_factors}_fold_1.pth\")  ########## CHANGE PATH FOR COMPLETE MODEL\n",
    "            pmf_model.eval()\n",
    "\n",
    "\n",
    "            pmf_climbers = pmf_model.climber_vocab.get_itos()[1:]                                         ########## WITHOUT OTHER ATM\n",
    "            pmf_athletes = pd.DataFrame({\n",
    "                \"weights\": pmf_model.climber_embedding.weight.data.numpy().tolist()[1:],\n",
    "                \"pmf_accuracy\": get_athlete_accuracy(df, pmf_model, pmf_climbers),\n",
    "                \"size\": get_athlete_counts(df, pmf_model, pmf_climbers),\n",
    "            }, index=pmf_climbers)\n",
    "\n",
    "            weights = pmf_athletes['weights'].apply(pd.Series)\n",
    "            pmf_athletes = pd.concat([pmf_athletes[['pmf_accuracy','size']], weights], axis=1)\n",
    "            pmf_athletes.columns = ['pmf_accuracy', 'size'] + [f'weight_{i+1}' for i in range(weights.shape[1])]\n",
    "\n",
    "            ### Correlations\n",
    "            lr_pmf_athletes = pd.merge(lr_athletes, pmf_athletes, left_index=True, right_index=True, how='outer')\n",
    "            lr_pmf_athletes.dropna(inplace=True)\n",
    "            rows = [row for row in lr_pmf_athletes.columns if row.startswith('w')]\n",
    "            cols = ['coefs','pmf_accuracy','size']\n",
    "            df_corr = lr_pmf_athletes.corr().loc[rows, cols]\n",
    "            sns.heatmap(df_corr, annot=True, cmap='coolwarm', center=0, vmin=-1, vmax=1, ax=axs[num_factors-1])\n",
    "\n",
    "            ### PCA\n",
    "            embeddings = lr_pmf_athletes[rows].values\n",
    "            components = min(embeddings.shape[0], embeddings.shape[1])\n",
    "            pca = PCA(n_components=components)\n",
    "            pcs = pca.fit_transform(embeddings)\n",
    "\n",
    "            for pc in range(components):\n",
    "                lr_pmf_athletes[f'PC{pc+1}'] = pcs[:, pc]\n",
    "\n",
    "            athletes[f'{replacement_level}_{num_factors}'] = lr_pmf_athletes\n",
    "\n",
    "        plt.suptitle(f'Correlation Matrices at RL: {replacement_level}', fontsize=16)\n",
    "\n",
    "        plt.tight_layout()\n",
    "        plt.savefig(f'figs/correlations_{replacement_level}')\n",
    "        plt.close(fig)\n",
    "\n",
    "    return athletes"
   ]
  },
  {
   "cell_type": "code",
   "execution_count": null,
   "metadata": {},
   "outputs": [],
   "source": []
  }
 ],
 "metadata": {
  "kernelspec": {
   "display_name": "Python 3",
   "language": "python",
   "name": "python3"
  },
  "language_info": {
   "codemirror_mode": {
    "name": "ipython",
    "version": 3
   },
   "file_extension": ".py",
   "mimetype": "text/x-python",
   "name": "python",
   "nbconvert_exporter": "python",
   "pygments_lexer": "ipython3",
   "version": "3.9.10"
  }
 },
 "nbformat": 4,
 "nbformat_minor": 2
}
