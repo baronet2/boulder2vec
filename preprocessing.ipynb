{
 "cells": [
  {
   "cell_type": "code",
   "execution_count": 1,
   "metadata": {},
   "outputs": [],
   "source": [
    "import pandas as pd\n",
    "import numpy as np\n",
    "import os\n",
    "from sklearn.model_selection import train_test_split"
   ]
  },
  {
   "cell_type": "code",
   "execution_count": 2,
   "metadata": {},
   "outputs": [],
   "source": [
    "path_data = \"https://github.com/DavidBreuer/ifsc-analysis/raw/main/ifsc_Boulder.xlsx\"\n",
    "df_raw = pd.read_excel(path_data)\n",
    "\n",
    "SEED = 42"
   ]
  },
  {
   "cell_type": "code",
   "execution_count": 3,
   "metadata": {},
   "outputs": [],
   "source": [
    "df = (\n",
    "    df_raw\n",
    "    # Get rid of columns we don't need\n",
    "    .drop(columns=['Unique', 'Discipline', 'Number', 'Group'])\n",
    "    .drop(columns=df_raw.filter(regex='Route|Run').columns)\n",
    "    # Capitalize climber names consistently\n",
    "    .assign(Name=lambda x: x['Name'].str.title())\n",
    "    # \"Unpivot\" so it's one row per climber-problem\n",
    "    # I'm treating tops and zones as separate problems even though there's obviously a correlation\n",
    "    .melt(id_vars=['Year', 'Competition', 'Gender', 'Level', 'Name', 'Country'],\n",
    "          value_vars=['Top1', 'Top2', 'Top3', 'Top4', 'Top5', 'Zone1', 'Zone2', 'Zone3', 'Zone4', 'Zone5'],\n",
    "          var_name='Problem', value_name='Attempts')\n",
    "    .dropna(subset=['Attempts'])\n",
    "    .replace([-np.inf, np.inf], np.nan)\n",
    ")"
   ]
  },
  {
   "cell_type": "code",
   "execution_count": 4,
   "metadata": {},
   "outputs": [],
   "source": [
    "# Keep completed boulders\n",
    "grouped = df.groupby(['Competition', 'Level', 'Problem', 'Gender'])\n",
    "df = grouped.filter(lambda x: x['Attempts'].notnull().any())\n",
    "\n",
    "# Max attempts passed through\n",
    "df = df.assign(Max_attempts=lambda x: grouped['Attempts'].transform('max'))\n",
    "\n",
    "# Survival model features\n",
    "df = df.assign(\n",
    "    Status=lambda x: x['Attempts'].notna(),\n",
    "    Time=lambda x: np.where(x['Attempts'].isna(), x['Max_attempts'], x['Attempts'])\n",
    ")\n",
    "\n",
    "# Failure set to max attempts\n",
    "df['Attempts'] = np.where(df['Attempts'].isna(), df['Max_attempts'], df['Attempts'])\n",
    "\n",
    "df[['Attempts', 'Max_attempts', 'Status', 'Time']] = df[['Attempts', 'Max_attempts', 'Status', 'Time']].astype(int)\n",
    "\n",
    "# Make Problem Category\n",
    "df['Problem_category'] = np.where(df.Problem.str.startswith('Top').values, 'Top', 'Zone')\n",
    "\n",
    "# Keep Climbers with lots of data; \"Other\" as replacement\n",
    "DATA_THRESHOLDS = [50,100,150,200,250,500,1000]\n",
    "\n",
    "climber_counts = df['Name'].value_counts()\n",
    "for threshold in DATA_THRESHOLDS:\n",
    "    df[f'Climber_{threshold}'] = np.where(df['Name'].map(climber_counts) >= threshold, df['Name'], 'Other')\n",
    "    df[f'Climber_{threshold}'] = pd.Categorical(df[f'Climber_{threshold}'], categories=['Other'] + [x for x in df[f'Climber_{threshold}'].unique() if x != 'Other'])"
   ]
  },
  {
   "cell_type": "code",
   "execution_count": 5,
   "metadata": {},
   "outputs": [
    {
     "name": "stdout",
     "output_type": "stream",
     "text": [
      "There are 399 male contestants with over 50 data points out of 1424\n",
      "There are 290 female contestans with over 50 data points out of 1007\n",
      "The male contestans are Dmitrii Sharafutdinov, Gabriele Moroni, Kilian Fischhuber, Matthias Müller, Martin Stranik, Kevin Hemund, Gareth Parry, Daniel Woods, Ludovic Laurence, Rustam Gelmanov, Jorg Verhoeven, Pierre Duroche, Markus Hoppe, Masatoshi Sugita, Thomas Caleyron, Guillaume Glairon Mondet, Christian Core, Mikhail Chernikov, Andre Borowka, Michele Caminati, David Lama, Lukas Ennemoser, Jernej Kruder, Tomasz Oleksy, Gérome Pouvreau, Emanuel Moosburger, Jonas Baumann, Lucas Preti, Thomas Tauporn, Jakob Schubert, Stewart Watson, Stéphan Julien, Akito Matsushima, Wouter Jongeneelen, Tsukuru Hori, Yury Novitskiy, Kazuma Watanabe, Klemen Becan, Christopher Webb-Parsons, David Barrans, Nalle Hukkataival, Mykhaylo Shalagin, Julien Meral, Remo Sommer, Peter Würth, Jesse Van Der Werf, Aric Merz, Baptiste Nomine, Ignasi Tarrazona Gasque, Bruno Macias Matutano, Stanislav Kleshnov, Mario Lechner, Joackym Ramsamy, Stepan Stranik, Blaz Rant, Ferdinand Schulte, Rolands Rugens, Jakub Kovacik, Edward Feehally, Matej Svub, Christian Feistmantl, Didier Hoarau, Sangwon Son, Cédric Lachat, Casper Ten Sijthoff, Rafet Serkan Ercan, Benjamin Blaser, Paul Robinson, Tyler Landman, Sean Mccoll, Carlo Traversi, Keita Mogaki, Kyle Owen, Mauricio Huerta, Dustin Curtis, John Bowles, Terry Paholek, Jakub Glowka, Bassa Mawem, Sébastien Valran, Antoine Vandeputte, Jj Mah, Jaha Kim, Aleksei Rubtsov, Olivier Lebreton, Marco Antonio Jubes Angarita, Loïc Gaidioz, Bastien Gerland, Artyom Devyaterikov, Benoit Heintz, Piotr Bunsch, Victor Kozlov, Vasily Kozlov, Alexandr Nikolaev, Atsushi Shimizu, Sachi Amma, Marc Edwards, Rei Sugimoto, Shinta Ozawa, Jihwan Park, Jiacuo Suolang, Adam Ondra, Martin Jaggi, Francois Kaiser, Nicky De Leeuw, Olivier Hequin, Stefan Danker, Niccolo' Ceria, Eric Lopez Mateos, Jacopo Larcher, Philippe Allenspach, Adam Jeewooth, Ondrej Nevelik, Jonathan Partridge, Ondrej Svub, Arman Ter-Minasyan, Blagovest Lazarov, George Maris, Jan Haiko, Tomas Greksak, Nikola Petrov, Claudiu Miu, Andre Difelice, Sebastien Lazure, Nicolas Mathieu, Daniel Andersson, Michiel Nieuwenhuijsen, Nicolas Farcy, Joakim Berglund, Jan Hojer, Qinghua Wang, Zida Ma, Vilimantas Petrasiunas, Valeriy Kryukov, Stefano Ghisolfi, Fabien Comina, Mathias Conrad, Jure Becan, Marcello Bombardi, Ignacio Sanchez González, Mikhail Gogol, Adrian Margea, Max Rudigier, Jan Chvala, Peter Putz, Robert D'Anastasio, Alex Johnson, Ian Dory, Josh Levin, Artem Petrakov, Hans Busker, Elko Schellingerhout, James Garden, Nigel Callender, Stefan Scarperi, Kipras Baltrunas, Domen Skofic, Anton Johansonn, Francesco Vettorata, Ethan Pringle, Jeremy Bonder, Pascal Gagneux, Jabee Kim, Juraj Ravas, Marián Šeliga, Eric Sethna, Josh Larson, Austin Geiman, Tim Reuser, Pedro Ferreira Nicoloso, Karolis Rutkauskas, Robert Rundin, Santiago De Alba Flores, Anthony Gullsten, Cesar Grosso, Gholamali Baratzadeh, Qixin Zhong, Andrew Zhigarev, Ryuichi Murai, Hongshu Qiu, Sin-Fai Ho, Siu-Hei Tang, Haibin Qu, Tom Newman, James Kassay, Makoto Yamauchi, Daniel Ungureanu, Tamás Farkas, Nicolas Januel, Andrzej Mecherzynski-Wiktor, Bjørn Arnel Iisager, Elias Weiler, Michael O'Rourke, Alexander Megos, Sungbo Seo, Hanwool Kim, Jakub Jodlowski, Ayodele Sopeju, Aspar Jaelolo, Jurijs Krasanovs, Minoru Nakano, Vlas Gavrilov, Changfeng Qu, Winai Ruangrit, Clément Lechaptois, Kevin Heiniger, Sandeep Maity, Tomoaki Takata, Thomas Farrell, Michael Piccolruaz, Kokoro Fujii, Gregor Vezonik, Loïc Timmermans, Stefan Bednar, Jason Holowach, Marc Eveleigh, Elan Jonasmcrae, Vasya Vorotnikov, Sergii Topishko, David Firnenburg, Sergii Karpin, Vadim Timonov, Alban Levier, Jongwon Chon, Rishat Khaibullin, Yoshiyuki Ogata, Cheung-Chi Shoji Chan, Joel Zerr, Chua Dennis, Tomoa Narasaki, Alfons Dornauer, Dimitri Vogt, Matthew Cousins, Kenneth Elvegård, Thilo Jeldrik Schröter, Andrea Zanone, Reza Kolasangian, Alex Khazanov, Orrin Coley, Riccardo Piazza, Dominic Burns, Amir Nouri, Lucas Uchida, Nathan Phillips, Andrew Lamb, Nathaniel Coleman, Masahiro Higuchi, Mickael Mawem, Jonatan Flor Vazquez, Baptiste Ometz, Manuel Cornu, Shawn Raboutou, Keita Watabe, Simon Unger, Nathan Smith, Kai Lightner, Sungjoon Chae, Chi-Fung Au, Sergei Luzhetskii, Ka-Chun Yau, Seyed Reza Chashi, Alexander Averdunk, Moritz Hans, Matthias Erber, William Ridal, Borna Cujic, Jan-Luca Posch, Georg Parma, Campbell Harrison, Pol Roca Lopez, Lukas Geukens, Stephane Hanssens, Roman Kucera, Övgün Yildirim, Jakub Jedlicka, Ben Abel, Kim Marschner, Max Prinz, Javier Cano Blazquez, Karoly-Csaba Szocs, Anton Kukhar, Florian Klingler, Ilari Juho Kelloniemi, Nils Favre, Sergio Pastor Martínez, Benjamin Hanna, Sascha Lehmann, Petar Ivanov, Sergio Verdasco Urizal, Will Johnson, Danila Yamchuk, Kai Harada, Yuji Inoue, Meichi Narasaki, Yuki Hada, Yufei Pan, Hei-Yeung Lam, Wan Tong Lok, Chun-Hsiang Wang, Singh Adarsh, Filip Schenk, Alessandro Palma, Palmer Larsen, Taisei Ishimatsu, Anze Peharc, Ciarán Scanlon, Nimrod Marcus, Alistair Earley, Hannes Puman, Yuval Shemla, Josef Sundakov-Krumins, Sergei Skorodumov, Hossein Familrohani, Ram Levin, Kristoffer Lindbäck, Simon Lorenzi, James Pope, Don Van Laere, Ronny Escobar, Nicolas Pelorson, Leo Avezou, Zan Lovenjak Sudar, Soma Strommer, Hakeem Kasban, Zach Richardson, Theis Lindegren Elfenbein, Mikel Asier Linacisoro Molina, Kaito Watanabe, Dichong Huang, Sam Lavender, Sean Bailey, Yannick Flohé, William Bosi, Max Kleesattel, Nicolas Collin, Roman Batsenko, Fredrik Serlachius, Peteris Meirans, Keita Dohi, Aidan Roberts, Philipp Martin, Fedir Samoilov, Nikolai Iarilovets, Cheuk-Hei Ho, Ludovico Fossali, George Sanders, Marcin Dzienski, John Brosler, Chase Gatland, Charles Barron, Christoph Schweiger, Zach Galla, Rudolph Ruana, Carlos Granja, Ross Fulkerson, Nickolaie Rivadeneira, Felipe Ho Foganholo, Sam Avezou, Minyoung Lee, Danny Valencia, Rei Kawamata, Nicolai Uznik, Matic Kotar, Nino Grünenfelder, Philipp Geisenhoff, Joe Goodacre, Christopher Cosser, Thomas Waldin, Alberto Ginés López, Elias Arriagada Krüger, Mark Brand, Alejandro Crespo Cobos, Dohyun Lee, Aleksey Rubtsov, Edvards Gruzitis, Geva Levin, Carmel Raz Romeo, Emil Abrahamsson, Sohta Amagasa, Mejdi Schalck, Colin Duffy, Julien Clémence, Paul Jenft, Axel Lindfors, Rosen Ruev, Joris Leipus, Alex Waterhouse, Maximillian Milne, Oscar Baudrand, Mathieu Ternant, Michael O'Neill, Hamish Mcarthur, Guy Mcnamee, Victor Baudrand, Mateus Rodrigues Bellotto, Kento Yamaguchi, Satone Yoshida, Jesse Grupper, Rodrigo Iasi Hanada\n",
      "The female contestans are Akiyo Noguchi, Cecile Avezou, Natalija Gros, Katja Vidmar, Olga Shalagina, Katharina Saurwein, Yulia Abramchuk, Chloé Graftiaux, Anne-Laure Chevrier, Anna Stöhr, Jenny Lavarda, Angelica Lind, Silvie Rajfova, Olga Bibik, Anna Gallyamova, Johanna Ernst, Barbara Bacher, Juliette Danion, Alexandra Eyer, Nina Caprez, Alexandra Balakireva, Kseniia Alekseeva, Mélanie Sandoz, Nelly Kudrova, Audrey Seguy, Sabine Bacher, Franziska Saurwein, Morgane Aveline, Elena Chiappa, Diane Merrick, Zoë Maire, Vera Zijlstra, Agata Modrzejewska, Raelene Cowie, Maud Ansade, Marine Delpierre, Therese Johannesen, Emilie Abgrall, Charlotte Durif, Alex Puccio, Alex Johnson, Tiffany Hensley, Elizabeth Asher, Jain Kim, Juliane Wurm, Katy Whittaker, Melissa Le Neve, Marine Thévenet, Yana Chereshneva, Tatiana Shemulinkina, Samantha Berry, Mina Markovic, Yuka Kobayashi, Asaki Hagiwara, Xuhua Pan, Christine Schranz, Hannah Midtboe, Emilie Verdier, Magali Hayen, Petra Klingler, Tabea Schwab, Alizée Dufraisse, Nóra Király, Helen Haldenby, Francesca Metcalf, Andrea Brigitta Szekely, Nikki Van Bergen, Clementine Kaiser, Leah Crane, Mina Leslie-Wujastyk, Manon Chapet, Maja Stremfelj, Tamara Kuznetsova, Puntarika Tunyavanich, Hung Ying Lee, Lamu Renqing, Rebekka Stotz, Alexandra Ladurner, Momoka Oda, Dinara Fakhritdinova, Risa Ota, Sierra Blair-Coyle, Stacey Weldon, Holly Reid, Olga Kulish, Camille Faille, Shauna Coxsey, Monika Retschy, Katharina Posch, Anna Tsyganova, Sol Sa, Anouk Piola, Anna Borella, Sylwia Buczek, Katja Debevec, Karolina Nevelikova, Mateja Hohkraut, Atori Yasuda, Petra Ruzickova, Angela Payne, Alannah Yip, Elise Sethna, Courtney Sanders, Clarrie Lam, Gill Peet, Yuki Matsushima, Fanny Gibert, Teresa Troya Gil, Tina Johnsen Hafsaas, Eevi Jaakkola, Thais Makino Shiraiwa, Andrea Rojas, Isabell Leiner, Afra Hönig, Katarzyna Ekwinska, Rong Jiang, Wangmu Renzeng, Ekaterina Kipriianova, Olga Iakovleva, Karoline Sinnhuber, Daniela Ebler, Delaney Miller, Thomasina Pidgeon, Erica Carlson, Valeri Kremer, Anna Laitinen, Lilli Kiesgen, Friederike Petri, Chloe Caulier, Ievgeniia Kazbekova, Margaux Pucheux, Julia Chanourdie, Michaela Tracy, Berit Schwaiger, Anna Vollenwyder, Natalie Bärtschi, Annalisa De Marco, Andrea Ebner, Aya Onoe, Julija Kruder, Mei Kotake, Stasa Gejo, Anne-Sophie Koller, Andrea Kümin, Jara Späte, Tiffany Melius, Meagan Martin, Alyssa Weber, Marieta Akalski, Jelisa Dunbar, Lisa Chulich, Megan Mascarenas, Kyra Condie, Alma Bestvater, Tomoko Kajima, Grace Mckeehan, Claire Kassay, Zhuoma Pubu, Claire Bresnan, Elnaz Rekabi, Kaori Hosono, Jennifer Wood, Miho Nonaka, Mária Čelková, Julia Pinggera, Katrine Vandet Salling, Stella Plantin, Claire Buhrfeind, Rebecca Frangos, Emma Horan, Margo Hayes, Minseon Kim, Seunghyun Kim, Manon Hily, Miwa Oba, Allison Vest, Di Niu, Johanna Holfeld, Tara Hayes, Franziska Sterrer, Johanna Färber, Karina Bilkova, Sofya Yokoyama, Irina Kuzmenko, Margaryta Zakharova, Michelle Kim Theisen, Itziar Zabala Zurinaga, Martina Zanetti, Agniete Seibokaite, Daniela Kotrbova, Janja Garnbret, Jessica Pilz, Mie (Marie Therese) Kastet, Giorgia Tesio, Asja Gollo, Tjasa Slemensek, Serika Okawachi, Saeko Sugimura, Mao Nakamura, Nanako Kura, Momoka Kaneko, Ayari Sakamoto, Yuzhen Baima, Anastasija Teriochina, Maya Madere, Evgeniya Lapshina, Giulia Medici, Romy Fuchs, Anna Margolina, Leonie Lochner, Lucia Dörffel, Sunniva Eik Haave, Naama Yohai, Lucinda Ann Stirling, Katrin Amann, Elena Krasovskaia, Maëlys Agrapart, Yael Taub, Cirvele Katrīna, Vita Lukan, Hannah Meul, Ida Kups, Alise Zvigule, Flavy Cohaut, Iuliia Panteleeva, Vanessa Si Yinn Teng, Brooke Raboutou, Bronwen Karnis, Natalia Grossman, Heeyeon Park, Hannah Slaney, Valentina Aguado, Urska Repusic, Roxana Wienand, Madison Fischer, Holly Toothill, Anna Zaikina, Molly Thompson-Smith, Wai-Ping Yu, Sandra Lettner, Mia Krampl, Futaba Ito, Saki Kikuchi, Laura Stöckler, Emily Phillips, Vanda Michalkova, Charlotte Andre, Heloïse Doumont, Tiba Vroom, Valiantsina Chamiakina, Viktoriia Meshkova, Aliaksandra Misiukevich, Patrycja Chudziak, Anna Brozek, Sarah Tetzlaff, Anouck Jaubert, Oceania Mackenzie, Babette Roy, Sienna Kopf, Ashima Shiraishi, Linda Sjödin, Alejandra Contreras, Natalia Kalucka, Aleksandra Kalucka, Lucka Rakovec, Mattea Pötzi, Camilla Moroni, Yuetong Zhang, Ai Mori, Aida Torres Illamola, Laura Rogora, Eliska Adamovska, Nika Potapova, Joanna Neame, Paige Boklaschuk, Chaehyun Seo, Ayala Kerem, Kylie Cullen, Laura Loikas, Oriane Bertone, Campbell Sarinopoulos, Ingrid Kindlihagen, Maya Dreamer, Mailys Piazzalunga, Elizabeth Sepulveda, Hana Koike, Cloe Coscoy, Mia Aoyagi, Anon Matsufuji, Quinn Mason\n",
      "There are 217 male contestants with over 100 data points out of 1424\n",
      "There are 169 female contestans with over 100 data points out of 1007\n",
      "The male contestans are Dmitrii Sharafutdinov, Gabriele Moroni, Kilian Fischhuber, Matthias Müller, Martin Stranik, Kevin Hemund, Gareth Parry, Daniel Woods, Ludovic Laurence, Rustam Gelmanov, Jorg Verhoeven, Markus Hoppe, Masatoshi Sugita, Thomas Caleyron, Guillaume Glairon Mondet, Christian Core, Mikhail Chernikov, Michele Caminati, David Lama, Lukas Ennemoser, Jernej Kruder, Gérome Pouvreau, Jonas Baumann, Lucas Preti, Thomas Tauporn, Jakob Schubert, Stewart Watson, Stéphan Julien, Wouter Jongeneelen, Tsukuru Hori, Yury Novitskiy, Klemen Becan, Christopher Webb-Parsons, David Barrans, Mykhaylo Shalagin, Julien Meral, Remo Sommer, Peter Würth, Baptiste Nomine, Ignasi Tarrazona Gasque, Bruno Macias Matutano, Stanislav Kleshnov, Mario Lechner, Stepan Stranik, Ferdinand Schulte, Rolands Rugens, Edward Feehally, Matej Svub, Cédric Lachat, Casper Ten Sijthoff, Benjamin Blaser, Tyler Landman, Sean Mccoll, Carlo Traversi, Keita Mogaki, Mauricio Huerta, Jakub Glowka, Jaha Kim, Aleksei Rubtsov, Marco Antonio Jubes Angarita, Loïc Gaidioz, Bastien Gerland, Artyom Devyaterikov, Benoit Heintz, Atsushi Shimizu, Sachi Amma, Rei Sugimoto, Shinta Ozawa, Adam Ondra, Francois Kaiser, Nicky De Leeuw, Olivier Hequin, Stefan Danker, Eric Lopez Mateos, Ondrej Nevelik, Jonathan Partridge, Ondrej Svub, Arman Ter-Minasyan, Nikola Petrov, Andre Difelice, Sebastien Lazure, Daniel Andersson, Nicolas Farcy, Jan Hojer, Zida Ma, Vilimantas Petrasiunas, Stefano Ghisolfi, Fabien Comina, Mathias Conrad, Jure Becan, Marcello Bombardi, Ignacio Sanchez González, Max Rudigier, Alex Johnson, Artem Petrakov, Hans Busker, Stefan Scarperi, Kipras Baltrunas, Domen Skofic, Anton Johansonn, Jeremy Bonder, Jabee Kim, Eric Sethna, Josh Larson, Austin Geiman, Anthony Gullsten, Gholamali Baratzadeh, Ryuichi Murai, Sin-Fai Ho, Haibin Qu, James Kassay, Makoto Yamauchi, Andrzej Mecherzynski-Wiktor, Bjørn Arnel Iisager, Elias Weiler, Michael O'Rourke, Alexander Megos, Jakub Jodlowski, Minoru Nakano, Kevin Heiniger, Tomoaki Takata, Thomas Farrell, Michael Piccolruaz, Kokoro Fujii, Gregor Vezonik, Loïc Timmermans, Stefan Bednar, Jason Holowach, Sergii Topishko, David Firnenburg, Vadim Timonov, Alban Levier, Jongwon Chon, Yoshiyuki Ogata, Cheung-Chi Shoji Chan, Chua Dennis, Tomoa Narasaki, Alfons Dornauer, Matthew Cousins, Thilo Jeldrik Schröter, Alex Khazanov, Riccardo Piazza, Amir Nouri, Lucas Uchida, Nathan Phillips, Nathaniel Coleman, Mickael Mawem, Jonatan Flor Vazquez, Baptiste Ometz, Manuel Cornu, Keita Watabe, Simon Unger, Nathan Smith, Chi-Fung Au, Sergei Luzhetskii, Ka-Chun Yau, Alexander Averdunk, Moritz Hans, Matthias Erber, William Ridal, Jan-Luca Posch, Georg Parma, Campbell Harrison, Lukas Geukens, Ben Abel, Kim Marschner, Max Prinz, Javier Cano Blazquez, Florian Klingler, Nils Favre, Sergio Pastor Martínez, Benjamin Hanna, Sascha Lehmann, Sergio Verdasco Urizal, Kai Harada, Yuji Inoue, Meichi Narasaki, Yufei Pan, Hei-Yeung Lam, Wan Tong Lok, Taisei Ishimatsu, Anze Peharc, Nimrod Marcus, Hannes Puman, Yuval Shemla, Sergei Skorodumov, Hossein Familrohani, Ram Levin, Simon Lorenzi, Zan Lovenjak Sudar, Zach Richardson, Theis Lindegren Elfenbein, Mikel Asier Linacisoro Molina, Sean Bailey, Yannick Flohé, William Bosi, Max Kleesattel, Nicolas Collin, Fredrik Serlachius, Keita Dohi, Philipp Martin, Fedir Samoilov, Nikolai Iarilovets, Cheuk-Hei Ho, Ludovico Fossali, Christoph Schweiger, Zach Galla, Carlos Granja, Ross Fulkerson, Rei Kawamata, Nicolai Uznik, Alberto Ginés López, Dohyun Lee, Aleksey Rubtsov, Mejdi Schalck, Colin Duffy, Maximillian Milne\n",
      "The female contestans are Akiyo Noguchi, Cecile Avezou, Natalija Gros, Katja Vidmar, Olga Shalagina, Katharina Saurwein, Yulia Abramchuk, Chloé Graftiaux, Anne-Laure Chevrier, Anna Stöhr, Jenny Lavarda, Angelica Lind, Silvie Rajfova, Olga Bibik, Anna Gallyamova, Barbara Bacher, Alexandra Eyer, Alexandra Balakireva, Mélanie Sandoz, Sabine Bacher, Morgane Aveline, Diane Merrick, Vera Zijlstra, Maud Ansade, Charlotte Durif, Alex Puccio, Alex Johnson, Elizabeth Asher, Jain Kim, Juliane Wurm, Melissa Le Neve, Marine Thévenet, Yana Chereshneva, Tatiana Shemulinkina, Mina Markovic, Yuka Kobayashi, Asaki Hagiwara, Hannah Midtboe, Magali Hayen, Petra Klingler, Tabea Schwab, Alizée Dufraisse, Nóra Király, Francesca Metcalf, Clementine Kaiser, Leah Crane, Mina Leslie-Wujastyk, Manon Chapet, Tamara Kuznetsova, Puntarika Tunyavanich, Hung Ying Lee, Lamu Renqing, Rebekka Stotz, Momoka Oda, Dinara Fakhritdinova, Sierra Blair-Coyle, Stacey Weldon, Camille Faille, Shauna Coxsey, Monika Retschy, Katharina Posch, Anna Tsyganova, Sol Sa, Katja Debevec, Petra Ruzickova, Angela Payne, Alannah Yip, Elise Sethna, Gill Peet, Fanny Gibert, Tina Johnsen Hafsaas, Afra Hönig, Katarzyna Ekwinska, Rong Jiang, Ekaterina Kipriianova, Olga Iakovleva, Karoline Sinnhuber, Thomasina Pidgeon, Valeri Kremer, Lilli Kiesgen, Chloe Caulier, Ievgeniia Kazbekova, Julia Chanourdie, Michaela Tracy, Berit Schwaiger, Anna Vollenwyder, Natalie Bärtschi, Annalisa De Marco, Andrea Ebner, Aya Onoe, Julija Kruder, Mei Kotake, Stasa Gejo, Anne-Sophie Koller, Andrea Kümin, Jara Späte, Tiffany Melius, Meagan Martin, Lisa Chulich, Megan Mascarenas, Kyra Condie, Alma Bestvater, Claire Kassay, Elnaz Rekabi, Kaori Hosono, Jennifer Wood, Miho Nonaka, Mária Čelková, Julia Pinggera, Katrine Vandet Salling, Claire Buhrfeind, Rebecca Frangos, Margo Hayes, Manon Hily, Miwa Oba, Allison Vest, Johanna Holfeld, Tara Hayes, Franziska Sterrer, Johanna Färber, Sofya Yokoyama, Irina Kuzmenko, Margaryta Zakharova, Janja Garnbret, Jessica Pilz, Giorgia Tesio, Mao Nakamura, Nanako Kura, Maya Madere, Giulia Medici, Leonie Lochner, Lucia Dörffel, Sunniva Eik Haave, Lucinda Ann Stirling, Elena Krasovskaia, Maëlys Agrapart, Yael Taub, Vita Lukan, Hannah Meul, Flavy Cohaut, Iuliia Panteleeva, Brooke Raboutou, Natalia Grossman, Heeyeon Park, Hannah Slaney, Valentina Aguado, Urska Repusic, Roxana Wienand, Holly Toothill, Sandra Lettner, Mia Krampl, Futaba Ito, Saki Kikuchi, Emily Phillips, Viktoriia Meshkova, Anouck Jaubert, Oceania Mackenzie, Sienna Kopf, Alejandra Contreras, Lucka Rakovec, Camilla Moroni, Yuetong Zhang, Aida Torres Illamola, Laura Rogora, Chaehyun Seo, Ayala Kerem, Kylie Cullen, Oriane Bertone, Cloe Coscoy\n",
      "There are 154 male contestants with over 150 data points out of 1424\n",
      "There are 122 female contestans with over 150 data points out of 1007\n",
      "The male contestans are Dmitrii Sharafutdinov, Gabriele Moroni, Kilian Fischhuber, Matthias Müller, Martin Stranik, Kevin Hemund, Daniel Woods, Rustam Gelmanov, Jorg Verhoeven, Markus Hoppe, Masatoshi Sugita, Thomas Caleyron, Guillaume Glairon Mondet, Christian Core, David Lama, Lukas Ennemoser, Jernej Kruder, Gérome Pouvreau, Jonas Baumann, Lucas Preti, Thomas Tauporn, Jakob Schubert, Stewart Watson, Stéphan Julien, Wouter Jongeneelen, Tsukuru Hori, Yury Novitskiy, Klemen Becan, Christopher Webb-Parsons, David Barrans, Mykhaylo Shalagin, Remo Sommer, Peter Würth, Stepan Stranik, Rolands Rugens, Edward Feehally, Cédric Lachat, Casper Ten Sijthoff, Benjamin Blaser, Tyler Landman, Sean Mccoll, Carlo Traversi, Keita Mogaki, Mauricio Huerta, Jakub Glowka, Aleksei Rubtsov, Loïc Gaidioz, Benoit Heintz, Atsushi Shimizu, Rei Sugimoto, Adam Ondra, Francois Kaiser, Nicky De Leeuw, Stefan Danker, Eric Lopez Mateos, Jonathan Partridge, Ondrej Svub, Arman Ter-Minasyan, Sebastien Lazure, Daniel Andersson, Jan Hojer, Vilimantas Petrasiunas, Stefano Ghisolfi, Mathias Conrad, Jure Becan, Marcello Bombardi, Ignacio Sanchez González, Alex Johnson, Stefan Scarperi, Kipras Baltrunas, Domen Skofic, Anton Johansonn, Jeremy Bonder, Jabee Kim, Josh Larson, Austin Geiman, Anthony Gullsten, Gholamali Baratzadeh, Ryuichi Murai, James Kassay, Makoto Yamauchi, Andrzej Mecherzynski-Wiktor, Bjørn Arnel Iisager, Elias Weiler, Alexander Megos, Jakub Jodlowski, Kevin Heiniger, Tomoaki Takata, Thomas Farrell, Michael Piccolruaz, Kokoro Fujii, Gregor Vezonik, Jason Holowach, Sergii Topishko, David Firnenburg, Vadim Timonov, Alban Levier, Jongwon Chon, Yoshiyuki Ogata, Cheung-Chi Shoji Chan, Tomoa Narasaki, Alfons Dornauer, Thilo Jeldrik Schröter, Alex Khazanov, Riccardo Piazza, Nathan Phillips, Nathaniel Coleman, Mickael Mawem, Jonatan Flor Vazquez, Baptiste Ometz, Manuel Cornu, Keita Watabe, Simon Unger, Chi-Fung Au, Sergei Luzhetskii, Ka-Chun Yau, Alexander Averdunk, Moritz Hans, William Ridal, Jan-Luca Posch, Georg Parma, Ben Abel, Kim Marschner, Florian Klingler, Nils Favre, Benjamin Hanna, Sascha Lehmann, Kai Harada, Yuji Inoue, Meichi Narasaki, Yufei Pan, Taisei Ishimatsu, Anze Peharc, Nimrod Marcus, Hannes Puman, Yuval Shemla, Sergei Skorodumov, Ram Levin, Simon Lorenzi, Zan Lovenjak Sudar, Sean Bailey, Yannick Flohé, Max Kleesattel, Nicolas Collin, Fredrik Serlachius, Keita Dohi, Philipp Martin, Zach Galla, Ross Fulkerson, Rei Kawamata, Nicolai Uznik, Mejdi Schalck, Colin Duffy, Maximillian Milne\n",
      "The female contestans are Akiyo Noguchi, Cecile Avezou, Natalija Gros, Katja Vidmar, Olga Shalagina, Katharina Saurwein, Yulia Abramchuk, Chloé Graftiaux, Anne-Laure Chevrier, Anna Stöhr, Jenny Lavarda, Angelica Lind, Silvie Rajfova, Olga Bibik, Anna Gallyamova, Barbara Bacher, Alexandra Eyer, Alexandra Balakireva, Mélanie Sandoz, Sabine Bacher, Morgane Aveline, Diane Merrick, Vera Zijlstra, Maud Ansade, Alex Puccio, Alex Johnson, Jain Kim, Juliane Wurm, Melissa Le Neve, Marine Thévenet, Yana Chereshneva, Tatiana Shemulinkina, Mina Markovic, Yuka Kobayashi, Asaki Hagiwara, Hannah Midtboe, Magali Hayen, Petra Klingler, Tabea Schwab, Alizée Dufraisse, Clementine Kaiser, Leah Crane, Mina Leslie-Wujastyk, Tamara Kuznetsova, Hung Ying Lee, Lamu Renqing, Rebekka Stotz, Momoka Oda, Dinara Fakhritdinova, Sierra Blair-Coyle, Shauna Coxsey, Monika Retschy, Katharina Posch, Anna Tsyganova, Sol Sa, Katja Debevec, Petra Ruzickova, Angela Payne, Alannah Yip, Elise Sethna, Fanny Gibert, Afra Hönig, Rong Jiang, Ekaterina Kipriianova, Olga Iakovleva, Karoline Sinnhuber, Thomasina Pidgeon, Valeri Kremer, Lilli Kiesgen, Chloe Caulier, Ievgeniia Kazbekova, Julia Chanourdie, Michaela Tracy, Berit Schwaiger, Natalie Bärtschi, Andrea Ebner, Aya Onoe, Julija Kruder, Mei Kotake, Stasa Gejo, Andrea Kümin, Meagan Martin, Lisa Chulich, Megan Mascarenas, Kyra Condie, Alma Bestvater, Elnaz Rekabi, Jennifer Wood, Miho Nonaka, Julia Pinggera, Katrine Vandet Salling, Margo Hayes, Allison Vest, Franziska Sterrer, Johanna Färber, Sofya Yokoyama, Margaryta Zakharova, Janja Garnbret, Jessica Pilz, Giorgia Tesio, Mao Nakamura, Nanako Kura, Maya Madere, Elena Krasovskaia, Yael Taub, Vita Lukan, Hannah Meul, Flavy Cohaut, Brooke Raboutou, Natalia Grossman, Heeyeon Park, Valentina Aguado, Sandra Lettner, Mia Krampl, Futaba Ito, Emily Phillips, Lucka Rakovec, Camilla Moroni, Laura Rogora, Ayala Kerem, Kylie Cullen, Oriane Bertone\n",
      "There are 111 male contestants with over 200 data points out of 1424\n",
      "There are 94 female contestans with over 200 data points out of 1007\n",
      "The male contestans are Dmitrii Sharafutdinov, Gabriele Moroni, Kilian Fischhuber, Matthias Müller, Martin Stranik, Kevin Hemund, Daniel Woods, Rustam Gelmanov, Jorg Verhoeven, Thomas Caleyron, Guillaume Glairon Mondet, Christian Core, Lukas Ennemoser, Jernej Kruder, Jonas Baumann, Lucas Preti, Thomas Tauporn, Jakob Schubert, Stewart Watson, Stéphan Julien, Wouter Jongeneelen, Tsukuru Hori, Klemen Becan, Christopher Webb-Parsons, David Barrans, Mykhaylo Shalagin, Remo Sommer, Peter Würth, Stepan Stranik, Rolands Rugens, Edward Feehally, Cédric Lachat, Casper Ten Sijthoff, Benjamin Blaser, Tyler Landman, Sean Mccoll, Mauricio Huerta, Aleksei Rubtsov, Loïc Gaidioz, Atsushi Shimizu, Rei Sugimoto, Adam Ondra, Francois Kaiser, Nicky De Leeuw, Stefan Danker, Eric Lopez Mateos, Jonathan Partridge, Arman Ter-Minasyan, Sebastien Lazure, Jan Hojer, Mathias Conrad, Marcello Bombardi, Ignacio Sanchez González, Alex Johnson, Stefan Scarperi, Kipras Baltrunas, Domen Skofic, Jeremy Bonder, Jabee Kim, Anthony Gullsten, Gholamali Baratzadeh, James Kassay, Makoto Yamauchi, Andrzej Mecherzynski-Wiktor, Bjørn Arnel Iisager, Elias Weiler, Alexander Megos, Kevin Heiniger, Tomoaki Takata, Michael Piccolruaz, Kokoro Fujii, Gregor Vezonik, Jason Holowach, Sergii Topishko, David Firnenburg, Vadim Timonov, Alban Levier, Jongwon Chon, Yoshiyuki Ogata, Cheung-Chi Shoji Chan, Tomoa Narasaki, Alfons Dornauer, Thilo Jeldrik Schröter, Alex Khazanov, Nathan Phillips, Nathaniel Coleman, Mickael Mawem, Baptiste Ometz, Manuel Cornu, Keita Watabe, Chi-Fung Au, William Ridal, Jan-Luca Posch, Georg Parma, Ben Abel, Nils Favre, Sascha Lehmann, Kai Harada, Yuji Inoue, Meichi Narasaki, Yufei Pan, Taisei Ishimatsu, Anze Peharc, Nimrod Marcus, Ram Levin, Simon Lorenzi, Sean Bailey, Yannick Flohé, Nicolas Collin, Keita Dohi, Nicolai Uznik\n",
      "The female contestans are Akiyo Noguchi, Cecile Avezou, Natalija Gros, Katja Vidmar, Olga Shalagina, Katharina Saurwein, Yulia Abramchuk, Chloé Graftiaux, Anne-Laure Chevrier, Anna Stöhr, Jenny Lavarda, Angelica Lind, Silvie Rajfova, Olga Bibik, Anna Gallyamova, Barbara Bacher, Alexandra Balakireva, Mélanie Sandoz, Sabine Bacher, Diane Merrick, Vera Zijlstra, Maud Ansade, Alex Puccio, Alex Johnson, Jain Kim, Juliane Wurm, Melissa Le Neve, Marine Thévenet, Yana Chereshneva, Tatiana Shemulinkina, Mina Markovic, Hannah Midtboe, Petra Klingler, Alizée Dufraisse, Clementine Kaiser, Leah Crane, Mina Leslie-Wujastyk, Hung Ying Lee, Rebekka Stotz, Momoka Oda, Sierra Blair-Coyle, Shauna Coxsey, Monika Retschy, Sol Sa, Katja Debevec, Petra Ruzickova, Angela Payne, Alannah Yip, Elise Sethna, Fanny Gibert, Afra Hönig, Rong Jiang, Ekaterina Kipriianova, Olga Iakovleva, Karoline Sinnhuber, Valeri Kremer, Lilli Kiesgen, Chloe Caulier, Ievgeniia Kazbekova, Julia Chanourdie, Michaela Tracy, Berit Schwaiger, Natalie Bärtschi, Andrea Ebner, Aya Onoe, Julija Kruder, Mei Kotake, Stasa Gejo, Andrea Kümin, Megan Mascarenas, Kyra Condie, Alma Bestvater, Jennifer Wood, Miho Nonaka, Julia Pinggera, Katrine Vandet Salling, Margo Hayes, Franziska Sterrer, Johanna Färber, Sofya Yokoyama, Margaryta Zakharova, Janja Garnbret, Jessica Pilz, Mao Nakamura, Nanako Kura, Elena Krasovskaia, Vita Lukan, Hannah Meul, Brooke Raboutou, Natalia Grossman, Futaba Ito, Camilla Moroni, Laura Rogora, Oriane Bertone\n",
      "There are 84 male contestants with over 250 data points out of 1424\n",
      "There are 74 female contestans with over 250 data points out of 1007\n",
      "The male contestans are Dmitrii Sharafutdinov, Gabriele Moroni, Kilian Fischhuber, Martin Stranik, Kevin Hemund, Daniel Woods, Rustam Gelmanov, Jorg Verhoeven, Thomas Caleyron, Guillaume Glairon Mondet, Christian Core, Lukas Ennemoser, Jernej Kruder, Jonas Baumann, Lucas Preti, Jakob Schubert, Stewart Watson, Stéphan Julien, Wouter Jongeneelen, Tsukuru Hori, Klemen Becan, David Barrans, Mykhaylo Shalagin, Remo Sommer, Peter Würth, Rolands Rugens, Edward Feehally, Cédric Lachat, Benjamin Blaser, Tyler Landman, Sean Mccoll, Mauricio Huerta, Aleksei Rubtsov, Loïc Gaidioz, Rei Sugimoto, Adam Ondra, Francois Kaiser, Nicky De Leeuw, Stefan Danker, Jonathan Partridge, Sebastien Lazure, Jan Hojer, Mathias Conrad, Ignacio Sanchez González, Alex Johnson, Stefan Scarperi, Kipras Baltrunas, Domen Skofic, Jeremy Bonder, Jabee Kim, Gholamali Baratzadeh, James Kassay, Andrzej Mecherzynski-Wiktor, Alexander Megos, Kevin Heiniger, Tomoaki Takata, Michael Piccolruaz, Kokoro Fujii, Gregor Vezonik, Jason Holowach, Sergii Topishko, Vadim Timonov, Alban Levier, Jongwon Chon, Yoshiyuki Ogata, Tomoa Narasaki, Alfons Dornauer, Alex Khazanov, Nathan Phillips, Nathaniel Coleman, Mickael Mawem, Manuel Cornu, Keita Watabe, William Ridal, Nils Favre, Kai Harada, Yuji Inoue, Meichi Narasaki, Taisei Ishimatsu, Anze Peharc, Nimrod Marcus, Sean Bailey, Yannick Flohé, Keita Dohi\n",
      "The female contestans are Akiyo Noguchi, Cecile Avezou, Natalija Gros, Katja Vidmar, Olga Shalagina, Katharina Saurwein, Yulia Abramchuk, Chloé Graftiaux, Anne-Laure Chevrier, Anna Stöhr, Jenny Lavarda, Silvie Rajfova, Olga Bibik, Anna Gallyamova, Barbara Bacher, Alexandra Balakireva, Mélanie Sandoz, Sabine Bacher, Diane Merrick, Vera Zijlstra, Maud Ansade, Alex Puccio, Alex Johnson, Jain Kim, Juliane Wurm, Melissa Le Neve, Marine Thévenet, Yana Chereshneva, Mina Markovic, Hannah Midtboe, Petra Klingler, Clementine Kaiser, Leah Crane, Mina Leslie-Wujastyk, Hung Ying Lee, Momoka Oda, Sierra Blair-Coyle, Shauna Coxsey, Monika Retschy, Sol Sa, Katja Debevec, Alannah Yip, Fanny Gibert, Afra Hönig, Rong Jiang, Ekaterina Kipriianova, Karoline Sinnhuber, Lilli Kiesgen, Chloe Caulier, Ievgeniia Kazbekova, Michaela Tracy, Berit Schwaiger, Natalie Bärtschi, Aya Onoe, Julija Kruder, Mei Kotake, Stasa Gejo, Andrea Kümin, Megan Mascarenas, Kyra Condie, Alma Bestvater, Miho Nonaka, Katrine Vandet Salling, Franziska Sterrer, Johanna Färber, Sofya Yokoyama, Janja Garnbret, Jessica Pilz, Mao Nakamura, Nanako Kura, Hannah Meul, Brooke Raboutou, Natalia Grossman, Futaba Ito\n",
      "There are 35 male contestants with over 500 data points out of 1424\n",
      "There are 24 female contestans with over 500 data points out of 1007\n",
      "The male contestans are Dmitrii Sharafutdinov, Gabriele Moroni, Kilian Fischhuber, Martin Stranik, Rustam Gelmanov, Jorg Verhoeven, Thomas Caleyron, Guillaume Glairon Mondet, Lukas Ennemoser, Jernej Kruder, Jonas Baumann, Jakob Schubert, Tsukuru Hori, Klemen Becan, David Barrans, Rolands Rugens, Sean Mccoll, Aleksei Rubtsov, Rei Sugimoto, Adam Ondra, Jan Hojer, Alex Johnson, Jeremy Bonder, Tomoaki Takata, Michael Piccolruaz, Kokoro Fujii, Gregor Vezonik, Alban Levier, Jongwon Chon, Yoshiyuki Ogata, Tomoa Narasaki, Alex Khazanov, Nathan Phillips, Mickael Mawem, Manuel Cornu\n",
      "The female contestans are Akiyo Noguchi, Cecile Avezou, Katharina Saurwein, Anne-Laure Chevrier, Anna Stöhr, Mélanie Sandoz, Vera Zijlstra, Alex Puccio, Alex Johnson, Jain Kim, Juliane Wurm, Melissa Le Neve, Mina Markovic, Petra Klingler, Shauna Coxsey, Monika Retschy, Sol Sa, Katja Debevec, Fanny Gibert, Chloe Caulier, Aya Onoe, Stasa Gejo, Miho Nonaka, Janja Garnbret\n",
      "There are 10 male contestants with over 1000 data points out of 1424\n",
      "There are 7 female contestans with over 1000 data points out of 1007\n",
      "The male contestans are Dmitrii Sharafutdinov, Kilian Fischhuber, Rustam Gelmanov, Guillaume Glairon Mondet, Jernej Kruder, Tsukuru Hori, Sean Mccoll, Aleksei Rubtsov, Jan Hojer, Kokoro Fujii\n",
      "The female contestans are Akiyo Noguchi, Katharina Saurwein, Anna Stöhr, Melissa Le Neve, Petra Klingler, Shauna Coxsey, Miho Nonaka\n"
     ]
    }
   ],
   "source": [
    "def examine_qualified_Climbers(threshold):\n",
    "    m_count, w_count = df[(df['Gender']==\"M\") & (df[f'Climber_{threshold}']!=\"Other\")][f'Climber_{threshold}'].nunique(), df[(df['Gender']==\"W\") & (df[f'Climber_{threshold}']!=\"Other\")][f'Climber_{threshold}'].nunique()\n",
    "    m_total_count, w_total_count = df_raw[df_raw['Gender']=='M'].Name.nunique(), df_raw[df_raw['Gender']=='W'].Name.nunique()\n",
    "\n",
    "    print(f'There are {m_count} male contestants with over {threshold} data points out of {m_total_count}')\n",
    "    print(f'There are {w_count} female contestans with over {threshold} data points out of {w_total_count}')\n",
    "\n",
    "    m_contestants = df[(df['Gender']==\"M\") & (df[f'Climber_{threshold}']!=\"Other\")].Name.unique()\n",
    "    w_contestants = df[(df['Gender']==\"W\") & (df[f'Climber_{threshold}']!=\"Other\")].Name.unique()\n",
    "\n",
    "    print(f'The male contestans are {\", \".join(m_contestants)}')\n",
    "    print(f'The female contestans are {\", \".join(w_contestants)}')\n",
    "\n",
    "for threshold in DATA_THRESHOLDS:\n",
    "    examine_qualified_Climbers(threshold)"
   ]
  },
  {
   "cell_type": "code",
   "execution_count": 6,
   "metadata": {},
   "outputs": [],
   "source": [
    "dfm = df[df.Gender==\"M\"].copy()\n",
    "dfw = df[df.Gender==\"W\"].copy()\n",
    "\n",
    "dfm.to_csv('./data/men_data.csv', index=False)\n",
    "dfw.to_csv('./data/women_data.csv', index=False)\n",
    "\n",
    "Stratification = ['Year', 'Competition', 'Level', 'Problem']\n",
    "\n",
    "def create_split(df, Stratification, seed):\n",
    "    df['Stratification'] = df[Stratification].apply(lambda row: '_'.join(row.values.astype(str)), axis=1)\n",
    "    train_df, test_df = train_test_split(df, train_size=0.8, test_size=0.2, random_state=seed, stratify=df['Stratification'])\n",
    "    return train_df.reset_index(drop=True), test_df.reset_index(drop=True)\n",
    "\n",
    "# Create the train/test splits\n",
    "train_M, test_M = create_split(dfm, Stratification, SEED)\n",
    "train_W, test_W = create_split(dfw, Stratification, SEED)"
   ]
  },
  {
   "cell_type": "code",
   "execution_count": null,
   "metadata": {},
   "outputs": [],
   "source": [
    "train_M.to_csv(f'./data/split/train_M.csv', index=False)\n",
    "test_M.to_csv(f'./data/split/test_M.csv', index=False)\n",
    "\n",
    "train_W.to_csv(f'./data/split/train_W.csv', index=False)\n",
    "test_W.to_csv(f'./data/split/test_W.csv', index=False)"
   ]
  }
 ],
 "metadata": {
  "kernelspec": {
   "display_name": "Python 3",
   "language": "python",
   "name": "python3"
  },
  "language_info": {
   "codemirror_mode": {
    "name": "ipython",
    "version": 3
   },
   "file_extension": ".py",
   "mimetype": "text/x-python",
   "name": "python",
   "nbconvert_exporter": "python",
   "pygments_lexer": "ipython3",
   "version": "3.9.10"
  }
 },
 "nbformat": 4,
 "nbformat_minor": 2
}
