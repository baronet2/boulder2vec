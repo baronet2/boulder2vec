{
 "cells": [
  {
   "cell_type": "code",
   "execution_count": 1,
   "metadata": {},
   "outputs": [],
   "source": [
    "import pandas as pd\n",
    "import numpy as np\n",
    "import os\n",
    "from sklearn.model_selection import train_test_split"
   ]
  },
  {
   "cell_type": "code",
   "execution_count": 2,
   "metadata": {},
   "outputs": [],
   "source": [
    "path_data = \"https://github.com/DavidBreuer/ifsc-analysis/raw/main/ifsc_Boulder.xlsx\"\n",
    "df_raw = pd.read_excel(path_data)\n",
    "\n",
    "SEED = 42\n",
    "DATA_THRESHOLD = 1000"
   ]
  },
  {
   "cell_type": "code",
   "execution_count": 3,
   "metadata": {},
   "outputs": [],
   "source": [
    "df = (\n",
    "    df_raw\n",
    "    # Get rid of columns we don't need\n",
    "    .drop(columns=['Unique', 'Discipline', 'Number', 'Group'])\n",
    "    .drop(columns=df_raw.filter(regex='Route|Run').columns)\n",
    "    # Capitalize climber names consistently\n",
    "    .assign(Name=lambda x: x['Name'].str.title())\n",
    "    # \"Unpivot\" so it's one row per climber-problem\n",
    "    # I'm treating tops and zones as separate problems even though there's obviously a correlation\n",
    "    .melt(id_vars=['Year', 'Competition', 'Gender', 'Level', 'Name', 'Country'],\n",
    "          value_vars=['Top1', 'Top2', 'Top3', 'Top4', 'Top5', 'Zone1', 'Zone2', 'Zone3', 'Zone4', 'Zone5'],\n",
    "          var_name='problem', value_name='attempts')\n",
    "    .dropna(subset=['attempts'])\n",
    "    .replace([-np.inf, np.inf], np.nan)\n",
    ")"
   ]
  },
  {
   "cell_type": "code",
   "execution_count": 4,
   "metadata": {},
   "outputs": [],
   "source": [
    "# Keep completed boulders\n",
    "grouped = df.groupby(['Competition', 'Level', 'problem', 'Gender'])\n",
    "# # df = grouped.filter(lambda x: np.isfinite(x['attempts']).any())\n",
    "df = grouped.filter(lambda x: x['attempts'].notnull().any())\n",
    "\n",
    "# Max attempts passed through\n",
    "df = df.assign(max_attempts=lambda x: grouped['attempts'].transform('max'))\n",
    "\n",
    "# Survival model features\n",
    "df = df.assign(\n",
    "    status=lambda x: x['attempts'].notna(),\n",
    "    time=lambda x: np.where(x['attempts'].isna(), x['max_attempts'], x['attempts'])\n",
    ")\n",
    "\n",
    "# Failure set to max attempts\n",
    "df['attempts'] = np.where(df['attempts'].isna(), df['max_attempts'], df['attempts'])\n",
    "\n",
    "df[['attempts', 'max_attempts', 'status', 'time']] = df[['attempts', 'max_attempts', 'status', 'time']].astype(int)\n",
    "\n",
    "# Keep Climbers with lots of data; \"Other\" as replacement\n",
    "climber_counts = df['Name'].value_counts()\n",
    "df['climber'] = np.where(df['Name'].map(climber_counts) >= DATA_THRESHOLD, df['Name'], 'Other')\n",
    "df['climber'] = pd.Categorical(df['climber'], categories=['Other'] + [x for x in df['climber'].unique() if x != 'Other'])\n",
    "\n",
    "# Make Problem Category\n",
    "df['problem_category'] = np.where(df.problem.str.startswith('Top').values, 'Top', 'Zone')"
   ]
  },
  {
   "cell_type": "code",
   "execution_count": 5,
   "metadata": {},
   "outputs": [
    {
     "name": "stdout",
     "output_type": "stream",
     "text": [
      "There are 10 male contestants with over 1000 data points out of 1424\n",
      "There are 7 female contestans with over 1000 data points out of 1007\n",
      "The male contestans are Dmitrii Sharafutdinov, Kilian Fischhuber, Rustam Gelmanov, Guillaume Glairon Mondet, Jernej Kruder, Tsukuru Hori, Sean Mccoll, Aleksei Rubtsov, Jan Hojer, Kokoro Fujii\n",
      "The female contestans are Akiyo Noguchi, Katharina Saurwein, Anna Stöhr, Melissa Le Neve, Petra Klingler, Shauna Coxsey, Miho Nonaka\n"
     ]
    }
   ],
   "source": [
    "DATA_THRESHOLD# Data Cleaning Analysis\n",
    "m_count, w_count = df[(df['Gender']==\"M\") & (df['climber']!=\"Other\")].climber.nunique(), df[(df['Gender']==\"W\") & (df['climber']!=\"Other\")].climber.nunique()\n",
    "m_total_count, w_total_count = df_raw[df_raw['Gender']=='M'].Name.nunique(), df_raw[df_raw['Gender']=='W'].Name.nunique()\n",
    "\n",
    "print(f'There are {m_count} male contestants with over {DATA_THRESHOLD} data points out of {m_total_count}')\n",
    "print(f'There are {w_count} female contestans with over {DATA_THRESHOLD} data points out of {w_total_count}')\n",
    "\n",
    "m_contestants = df[(df['Gender']==\"M\") & (df['climber']!=\"Other\")].Name.unique()\n",
    "w_contestants = df[(df['Gender']==\"W\") & (df['climber']!=\"Other\")].Name.unique()\n",
    "\n",
    "print(f'The male contestans are {\", \".join(m_contestants)}')\n",
    "print(f'The female contestans are {\", \".join(w_contestants)}')"
   ]
  },
  {
   "cell_type": "code",
   "execution_count": 6,
   "metadata": {},
   "outputs": [
    {
     "name": "stdout",
     "output_type": "stream",
     "text": [
      "Directory data/threshold_1000 already exists.\n"
     ]
    },
    {
     "name": "stderr",
     "output_type": "stream",
     "text": [
      "/var/folders/vw/h6mk20s92673927lzr84l52r0000gn/T/ipykernel_10010/2541592555.py:13: SettingWithCopyWarning: \n",
      "A value is trying to be set on a copy of a slice from a DataFrame.\n",
      "Try using .loc[row_indexer,col_indexer] = value instead\n",
      "\n",
      "See the caveats in the documentation: https://pandas.pydata.org/pandas-docs/stable/user_guide/indexing.html#returning-a-view-versus-a-copy\n",
      "  df['stratify_group'] = df[['Competition', 'Level', 'problem']].apply(lambda row: '_'.join(row.values.astype(str)), axis=1)\n",
      "/var/folders/vw/h6mk20s92673927lzr84l52r0000gn/T/ipykernel_10010/2541592555.py:13: SettingWithCopyWarning: \n",
      "A value is trying to be set on a copy of a slice from a DataFrame.\n",
      "Try using .loc[row_indexer,col_indexer] = value instead\n",
      "\n",
      "See the caveats in the documentation: https://pandas.pydata.org/pandas-docs/stable/user_guide/indexing.html#returning-a-view-versus-a-copy\n",
      "  df['stratify_group'] = df[['Competition', 'Level', 'problem']].apply(lambda row: '_'.join(row.values.astype(str)), axis=1)\n"
     ]
    }
   ],
   "source": [
    "directory_path = f'data/threshold_{DATA_THRESHOLD}'\n",
    "if not os.path.exists(directory_path):\n",
    "    os.makedirs(directory_path)\n",
    "    print(f\"Directory {directory_path} created.\")\n",
    "else:\n",
    "    print(f\"Directory {directory_path} already exists.\")\n",
    "\n",
    "\n",
    "df[df.Gender==\"M\"].to_csv(f'./{directory_path}/men_data_{DATA_THRESHOLD}.csv', index=False)\n",
    "df[df.Gender==\"W\"].to_csv(f'./{directory_path}/women_data_{DATA_THRESHOLD}.csv', index=False)\n",
    "\n",
    "def create_split(df, seed):\n",
    "    df['stratify_group'] = df[['Competition', 'Level', 'problem']].apply(lambda row: '_'.join(row.values.astype(str)), axis=1)\n",
    "    train_df, test_df = train_test_split(df, train_size=0.8, test_size=0.2, random_state=seed, stratify=df['stratify_group'])\n",
    "\n",
    "    train_df = train_df.drop(columns=['stratify_group'])\n",
    "    test_df = test_df.drop(columns=['stratify_group'])\n",
    "\n",
    "    return train_df.reset_index(drop=True), test_df.reset_index(drop=True)\n",
    "\n",
    "# Create the train/test splits\n",
    "train_M, test_M = create_split(df[df.Gender==\"M\"], SEED)\n",
    "train_W, test_W = create_split(df[df.Gender==\"W\"], SEED)\n",
    "\n",
    "# Write train/test M+W to\n",
    "train_M.to_csv(f'./{directory_path}/train_M_{DATA_THRESHOLD}.csv', index=False)\n",
    "test_M.to_csv(f'./{directory_path}/test_M_{DATA_THRESHOLD}.csv', index=False)\n",
    "\n",
    "train_W.to_csv(f'./{directory_path}/train_W_{DATA_THRESHOLD}.csv', index=False)\n",
    "test_W.to_csv(f'./{directory_path}/test_W_{DATA_THRESHOLD}.csv', index=False)"
   ]
  }
 ],
 "metadata": {
  "kernelspec": {
   "display_name": "Python 3",
   "language": "python",
   "name": "python3"
  },
  "language_info": {
   "codemirror_mode": {
    "name": "ipython",
    "version": 3
   },
   "file_extension": ".py",
   "mimetype": "text/x-python",
   "name": "python",
   "nbconvert_exporter": "python",
   "pygments_lexer": "ipython3",
   "version": "3.9.10"
  }
 },
 "nbformat": 4,
 "nbformat_minor": 2
}
