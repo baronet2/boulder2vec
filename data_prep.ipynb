{
 "cells": [
  {
   "cell_type": "code",
   "execution_count": 1,
   "metadata": {},
   "outputs": [],
   "source": [
    "import pandas as pd\n",
    "import numpy as np"
   ]
  },
  {
   "cell_type": "code",
   "execution_count": 2,
   "metadata": {},
   "outputs": [],
   "source": [
    "path_data = \"https://github.com/DavidBreuer/ifsc-analysis/raw/main/ifsc_Boulder.xlsx\"\n",
    "\n",
    "df_raw = pd.read_excel(path_data)"
   ]
  },
  {
   "cell_type": "code",
   "execution_count": 3,
   "metadata": {},
   "outputs": [],
   "source": [
    "df = (\n",
    "    df_raw\n",
    "    # Get rid of columns we don't need\n",
    "    .drop(columns=['Unique', 'Discipline', 'Number', 'Group'])\n",
    "    .drop(columns=df_raw.filter(regex='Route|Run').columns)\n",
    "    # Capitalize climber names consistently\n",
    "    .assign(Name=lambda x: x['Name'].str.title())\n",
    "    # \"Unpivot\" so it's one row per climber-problem\n",
    "    # I'm treating tops and zones as separate problems even though there's obviously a correlation\n",
    "    .melt(id_vars=['Year', 'Competition', 'Gender', 'Level', 'Name', 'Country'],\n",
    "          value_vars=['Top1', 'Top2', 'Top3', 'Top4', 'Top5', 'Zone1', 'Zone2', 'Zone3', 'Zone4', 'Zone5'],\n",
    "          var_name='problem', value_name='attempts')\n",
    "    .dropna(subset=['attempts'])\n",
    ")"
   ]
  },
  {
   "cell_type": "code",
   "execution_count": 4,
   "metadata": {},
   "outputs": [
    {
     "name": "stdout",
     "output_type": "stream",
     "text": [
      "There are 11 male contestants with over 1000 data points out of 1424\n",
      "There are 7 female contestans with over 1000 data points out of 1007\n",
      "The male contestans are Dmitrii Sharafutdinov, Kilian Fischhuber, Rustam Gelmanov, Guillaume Glairon Mondet, Jernej Kruder, Tsukuru Hori, Sean Mccoll, Aleksei Rubtsov, Jan Hojer, Kokoro Fujii, Tomoa Narasaki\n",
      "The female contestans are Akiyo Noguchi, Katharina Saurwein, Anna Stöhr, Melissa Le Neve, Petra Klingler, Shauna Coxsey, Miho Nonaka\n"
     ]
    }
   ],
   "source": [
    "# Keep completed boulders\n",
    "grouped = df.groupby(['Competition', 'Level', 'problem'])\n",
    "df = grouped.filter(lambda x: np.isfinite(x['attempts']).any())\n",
    "\n",
    "\n",
    "# Failure set to max attempts\n",
    "df = df.assign(max_attempts=lambda x: grouped['attempts'].transform('max'))\n",
    "df['attempts'] = np.where(df['attempts'].isna(), df['max_attempts'], df['attempts'])\n",
    "\n",
    "\n",
    "# Survival model features\n",
    "df = df.assign(\n",
    "    status=lambda x: x['attempts'].notna(),\n",
    "    time=lambda x: np.where(x['attempts'].isna(), x['max_attempts'], x['attempts'])\n",
    ")\n",
    "\n",
    "\n",
    "# Keep Climbers with lots of data; \"Other\" as replacement\n",
    "data_threshold = 1000\n",
    "climber_counts = df['Name'].value_counts()\n",
    "df['climber'] = np.where(df['Name'].map(climber_counts) >= data_threshold, df['Name'], 'Other')\n",
    "df['climber'] = pd.Categorical(df['climber'], categories=['Other'] + [x for x in df['climber'].unique() if x != 'Other'])\n",
    "\n",
    "\n",
    "# Data Cleaning Analysis\n",
    "m_count, w_count = df[(df['Gender']==\"M\") & (df['climber']!=\"Other\")].climber.nunique(), df[(df['Gender']==\"W\") & (df['climber']!=\"Other\")].climber.nunique()\n",
    "m_total_count, w_total_count = df_raw[df_raw['Gender']=='M'].Name.nunique(), df_raw[df_raw['Gender']=='W'].Name.nunique()\n",
    "\n",
    "print(f'There are {m_count} male contestants with over {data_threshold} data points out of {m_total_count}')\n",
    "print(f'There are {w_count} female contestans with over {data_threshold} data points out of {w_total_count}')\n",
    "\n",
    "m_contestants = df[(df['Gender']==\"M\") & (df['climber']!=\"Other\")].Name.unique()\n",
    "w_contestants = df[(df['Gender']==\"W\") & (df['climber']!=\"Other\")].Name.unique()\n",
    "\n",
    "print(f'The male contestans are {\", \".join(m_contestants)}')\n",
    "print(f'The female contestans are {\", \".join(w_contestants)}')"
   ]
  },
  {
   "cell_type": "code",
   "execution_count": 5,
   "metadata": {},
   "outputs": [],
   "source": [
    "df[df.Gender==\"M\"].to_csv('./data/men_data_1000.csv', index=False)\n",
    "df[df.Gender==\"W\"].to_csv('./data/women_data_1000.csv', index=False)"
   ]
  }
 ],
 "metadata": {
  "kernelspec": {
   "display_name": "Python 3",
   "language": "python",
   "name": "python3"
  },
  "language_info": {
   "codemirror_mode": {
    "name": "ipython",
    "version": 3
   },
   "file_extension": ".py",
   "mimetype": "text/x-python",
   "name": "python",
   "nbconvert_exporter": "python",
   "pygments_lexer": "ipython3",
   "version": "3.9.10"
  }
 },
 "nbformat": 4,
 "nbformat_minor": 2
}
