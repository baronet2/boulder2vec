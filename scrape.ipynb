{
 "cells": [
  {
   "cell_type": "code",
   "execution_count": 11,
   "metadata": {},
   "outputs": [
    {
     "name": "stderr",
     "output_type": "stream",
     "text": [
      "/Users/zekeweng/.pyenv/versions/3.9.10/lib/python3.9/site-packages/torchtext/vocab/__init__.py:4: UserWarning: \n",
      "/!\\ IMPORTANT WARNING ABOUT TORCHTEXT STATUS /!\\ \n",
      "Torchtext is deprecated and the last released version will be 0.18 (this one). You can silence this warning by calling the following at the beginnign of your scripts: `import torchtext; torchtext.disable_torchtext_deprecation_warning()`\n",
      "  warnings.warn(torchtext._TORCHTEXT_DEPRECATION_MSG)\n",
      "/Users/zekeweng/.pyenv/versions/3.9.10/lib/python3.9/site-packages/torchtext/utils.py:4: UserWarning: \n",
      "/!\\ IMPORTANT WARNING ABOUT TORCHTEXT STATUS /!\\ \n",
      "Torchtext is deprecated and the last released version will be 0.18 (this one). You can silence this warning by calling the following at the beginnign of your scripts: `import torchtext; torchtext.disable_torchtext_deprecation_warning()`\n",
      "  warnings.warn(torchtext._TORCHTEXT_DEPRECATION_MSG)\n"
     ]
    }
   ],
   "source": [
    "from selenium import webdriver\n",
    "from selenium.webdriver.common.by import By\n",
    "from selenium.webdriver.support.ui import WebDriverWait\n",
    "from selenium.webdriver.support import expected_conditions as EC\n",
    "import torch\n",
    "from pmf import PMF\n",
    "import pandas as pd\n",
    "\n",
    "pmf_model = torch.load(f\"models/pmf/model_rl_{100}_d_{3}_full_data.pth\")\n",
    "pmf_model.eval()\n",
    "Climbers_rl_100 = pmf_model.climber_vocab.get_itos()[1:]\n",
    "\n",
    "def scrape_athlete_data(athlete_id):\n",
    "    driver = webdriver.Chrome()\n",
    "\n",
    "    try:\n",
    "        athlete_url = f'https://ifsc.results.info/#/athlete/{athlete_id}'\n",
    "        driver.get(athlete_url)\n",
    "\n",
    "        WebDriverWait(driver, 1).until(\n",
    "            EC.presence_of_element_located((By.CSS_SELECTOR, '.athlete-name-container'))\n",
    "        )\n",
    "\n",
    "        name = driver.find_element(By.CSS_SELECTOR, '.athlete-name').text.lower()\n",
    "        athlete_info = driver.find_element(By.CSS_SELECTOR, '.athlete-info').text\n",
    "\n",
    "        height = None\n",
    "        for line in athlete_info.split('\\n'):\n",
    "            if line.startswith('HEIGHT:'):\n",
    "\n",
    "                height = int(line.split(':')[1].strip())\n",
    "                break\n",
    "\n",
    "        return name, height if height is not None else 0\n",
    "\n",
    "    except Exception as e:\n",
    "        return 'empty', 0\n",
    "    finally:\n",
    "        driver.quit()\n",
    "\n",
    "def scrape_all(start,end):\n",
    "    for index in range(start, end):\n",
    "        name, height = scrape_athlete_data(str(index))\n",
    "        Climbers_data[name] = height\n",
    "\n",
    "        if name in Climbers_100:\n",
    "            c_100[name] = height\n",
    "            print(f'GOT: {name}')\n",
    "\n",
    "Climbers_data = {}\n",
    "Climbers_100 = set(climber.lower() for climber in pmf_model.climber_vocab.get_itos()[1:])\n",
    "c_100 = {}"
   ]
  },
  {
   "cell_type": "code",
   "execution_count": null,
   "metadata": {},
   "outputs": [],
   "source": [
    "scrape_all(1,10000)\n",
    "\n",
    "c_100_df = pd.DataFrame(list(c_100.items()), columns=['Name', 'Height'])\n",
    "c_100_df.to_csv('c_100_data.csv', index=False)"
   ]
  },
  {
   "cell_type": "code",
   "execution_count": 102,
   "metadata": {},
   "outputs": [],
   "source": [
    "climbers_source_1 = pd.read_csv('data/scrape_climbers_data.csv')\n",
    "climbers_source_1['Name'] = climbers_source_1['Name'].apply(lambda x: ' '.join(word.capitalize() for word in x.split()))\n",
    "climbers_source_1.set_index('Name', inplace=True)"
   ]
  },
  {
   "cell_type": "markdown",
   "metadata": {},
   "source": [
    "# Source 2: Another Github\n",
    "https://github.com/lfigil/ifsc-data"
   ]
  },
  {
   "cell_type": "code",
   "execution_count": 103,
   "metadata": {},
   "outputs": [],
   "source": [
    "climbers_source_2 = (\n",
    "    pd.read_csv('data/athlete_info_v2.csv', usecols=['Name', 'Height'])\n",
    "    .assign(Name=lambda df: df['Name'].str.title())\n",
    "    .set_index('Name')\n",
    "    .loc[lambda df: df.index.isin(Climbers_rl_100)]\n",
    ")"
   ]
  },
  {
   "cell_type": "markdown",
   "metadata": {},
   "source": [
    "# Source 3: Reddit Post:\n",
    "https://www.reddit.com/r/bouldering/comments/16yvuzt/the_ideal_weight_for_climbing_sport_lets_look_at/"
   ]
  },
  {
   "cell_type": "code",
   "execution_count": 104,
   "metadata": {},
   "outputs": [],
   "source": [
    "import re\n",
    "import pandas as pd\n",
    "\n",
    "def parse_climber_data(data):\n",
    "    climbers = []\n",
    "    pattern = re.compile(r'([A-Za-z\\s]+)\\s+(\\d{3})\\s+\\d{1,2}′\\s+\\d{1,2}″')\n",
    "    for line in data.splitlines():\n",
    "        match = pattern.match(line)\n",
    "        if match:\n",
    "            name = match.group(1).strip()\n",
    "            height = int(match.group(2).strip())\n",
    "            climbers.append({\"Name\": name, \"Height\": height})\n",
    "\n",
    "    return climbers\n",
    "\n",
    "# Provided data\n",
    "data = \"\"\"\n",
    "Adam Ondra 185 6′ 1″ 70 154 20.5\n",
    "Alberto Ginés López 169 5′ 7″ 58 128 20.3\n",
    "Aleksei Rubtsov 178 5′ 10″ 63 139 19.9\n",
    "Alex Megos 175 5′ 9″ 57 126 18.6\n",
    "Alfian Muhammad Fajri 166 5′ 5″ 59 130 21.4\n",
    "Chris Sharma 183 6′ 0″ 75 165 22.4\n",
    "Dan Osman 179 5′ 10″ 70 155 21.8\n",
    "Daniel Woods 170 5′ 7″ 61 134 21.1\n",
    "Danyil Boldyrev 190 6′ 3″ 78 172 21.6\n",
    "Dave Graham 179 5′ 10″ 63 139 19.7\n",
    "Dean Potter 196 6′ 5″ 83 185 21.6\n",
    "Jakob Schubert 176 5′ 9″ 63 139 20.3\n",
    "Jimmy Webb 183 6′ 0″ 78 172 23.3\n",
    "Jan Hojer 188 6′ 2″ 77 170 21.8\n",
    "Jernej Kruder 180 5′ 11″ 71 157 21.9\n",
    "Jongwon Chon 176 5′ 9″ 60 132 19.4\n",
    "Kevin Jorgeson 175 5′ 9″ 66 146 21.6\n",
    "Kokoro Fujii 176 5′ 9″ 64 141 20.7\n",
    "Ludovico Fossali 185 6′ 1″ 74 163 21.6\n",
    "Magnus Midtbø 173 5′ 8″ 71 157 23.7\n",
    "Nalle Hukkataival 173 5′ 8″ 68 150 22.7\n",
    "Nathaniel Coleman 180 5′ 11″ 74 163 22.8\n",
    "Patxi Usobiaga 174 5′ 9″ 62 137 20.5\n",
    "Qixin Zhong 170 5′ 7″ 68 150 23.5\n",
    "Reza Alipour 170 5′ 7″ 76 168 26.3\n",
    "Rishat Khaibullin 169 5′ 7″ 56 123 19.6\n",
    "Sean McColl 169 5′ 7″ 60 132 21.0\n",
    "Stefano Ghisolfi 170 5′ 7″ 58 128 20.1\n",
    "Tom Randall 178 5′ 10″ 69 152 21.8\n",
    "Tommy Caldwell 180 5′ 11″ 75 165 23.1\n",
    "Tomoa Narasaki 170 5′ 7″ 58\n",
    "\"\"\"\n",
    "\n",
    "climbers_source_3 = parse_climber_data(data)\n",
    "climbers_source_3 = pd.DataFrame(climbers_source_3).set_index('Name')"
   ]
  },
  {
   "cell_type": "markdown",
   "metadata": {},
   "source": [
    "# Combine Data"
   ]
  },
  {
   "cell_type": "code",
   "execution_count": 105,
   "metadata": {},
   "outputs": [
    {
     "name": "stdout",
     "output_type": "stream",
     "text": [
      "57\n",
      "68\n",
      "29\n"
     ]
    }
   ],
   "source": [
    "print(len(climbers_source_1))\n",
    "print(len(climbers_source_2))\n",
    "print(len(climbers_source_3))"
   ]
  },
  {
   "cell_type": "code",
   "execution_count": 106,
   "metadata": {},
   "outputs": [],
   "source": [
    "stacked_climbers = pd.concat([climbers_source_1, climbers_source_2, climbers_source_3])\n",
    "climbers = stacked_climbers[~stacked_climbers.index.duplicated(keep='first')]\n",
    "climbers = climbers[~climbers.isin(['-']).any(axis=1)]"
   ]
  },
  {
   "cell_type": "code",
   "execution_count": 107,
   "metadata": {},
   "outputs": [],
   "source": [
    "climbers.to_csv('data/climbers_heights.csv')"
   ]
  },
  {
   "cell_type": "code",
   "execution_count": null,
   "metadata": {},
   "outputs": [],
   "source": []
  }
 ],
 "metadata": {
  "kernelspec": {
   "display_name": "Python 3",
   "language": "python",
   "name": "python3"
  },
  "language_info": {
   "codemirror_mode": {
    "name": "ipython",
    "version": 3
   },
   "file_extension": ".py",
   "mimetype": "text/x-python",
   "name": "python",
   "nbconvert_exporter": "python",
   "pygments_lexer": "ipython3",
   "version": "3.9.10"
  }
 },
 "nbformat": 4,
 "nbformat_minor": 2
}
